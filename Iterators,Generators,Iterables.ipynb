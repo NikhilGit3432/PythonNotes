{
 "cells": [
  {
   "cell_type": "code",
   "execution_count": 1,
   "id": "a75ecf1d-8a27-4325-8198-900c7ee475e3",
   "metadata": {},
   "outputs": [],
   "source": [
    "# Python iterators and Generator\n"
   ]
  },
  {
   "cell_type": "code",
   "execution_count": 3,
   "id": "8cd288f1-54d0-44e0-ad92-ead74168ca22",
   "metadata": {},
   "outputs": [
    {
     "name": "stdout",
     "output_type": "stream",
     "text": [
      "1\n",
      "2\n",
      "3\n",
      "4\n",
      "5\n"
     ]
    }
   ],
   "source": [
    "# List is an Irerable object or an iterable \n",
    "List=[1,2,3,4,5]\n",
    "for i in List:\n",
    "    print (i)"
   ]
  },
  {
   "cell_type": "code",
   "execution_count": 16,
   "id": "6dfc595a-5079-4201-a979-93ff71df403c",
   "metadata": {},
   "outputs": [
    {
     "data": {
      "text/plain": [
       "1"
      ]
     },
     "execution_count": 16,
     "metadata": {},
     "output_type": "execute_result"
    }
   ],
   "source": [
    "iterable=iter(List) # This will convert the iterable into an iterator \n",
    "next(iterable)"
   ]
  },
  {
   "cell_type": "code",
   "execution_count": 18,
   "id": "ca90d565-c3a2-4758-b183-e8bc743fd486",
   "metadata": {},
   "outputs": [
    {
     "data": {
      "text/plain": [
       "2"
      ]
     },
     "execution_count": 18,
     "metadata": {},
     "output_type": "execute_result"
    }
   ],
   "source": [
    "next(iterable)#2nd time it returns the next value of the list so here we can say that next keyword is an iterator "
   ]
  },
  {
   "cell_type": "code",
   "execution_count": 44,
   "id": "e8b0e4f1-429d-4d0d-a3ef-0de1283ec7c9",
   "metadata": {},
   "outputs": [
    {
     "data": {
      "text/plain": [
       "1"
      ]
     },
     "execution_count": 44,
     "metadata": {},
     "output_type": "execute_result"
    }
   ],
   "source": [
    "#Generators consist  of a functon and a yeild keyword ,yeild keyword helps in saving the recently generated value by the function \n",
    "# Generartor donot inertae throught the whole function values but for the first  itrartots that is \"next\" keyword it saves ony the first iterated value\n",
    "# This way it helps us write more productive and less memory and time consuming code \n",
    "def List(listt):\n",
    "    for x in listt:\n",
    "        yield x\n",
    "listt=[1,2,3,4,5,6]        \n",
    "L=List(listt)\n",
    "next(L)"
   ]
  },
  {
   "cell_type": "code",
   "execution_count": 38,
   "id": "d5a06939-6400-493a-a0c7-0d6240feb3a7",
   "metadata": {},
   "outputs": [
    {
     "data": {
      "text/plain": [
       "2"
      ]
     },
     "execution_count": 38,
     "metadata": {},
     "output_type": "execute_result"
    }
   ],
   "source": [
    "next(L)"
   ]
  },
  {
   "cell_type": "code",
   "execution_count": null,
   "id": "6f01d129-f40c-4f20-acb0-da362d2c703f",
   "metadata": {},
   "outputs": [],
   "source": []
  }
 ],
 "metadata": {
  "kernelspec": {
   "display_name": "Python 3 (ipykernel)",
   "language": "python",
   "name": "python3"
  },
  "language_info": {
   "codemirror_mode": {
    "name": "ipython",
    "version": 3
   },
   "file_extension": ".py",
   "mimetype": "text/x-python",
   "name": "python",
   "nbconvert_exporter": "python",
   "pygments_lexer": "ipython3",
   "version": "3.12.4"
  }
 },
 "nbformat": 4,
 "nbformat_minor": 5
}

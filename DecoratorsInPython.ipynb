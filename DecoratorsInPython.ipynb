{
 "cells": [
  {
   "cell_type": "markdown",
   "id": "eb9e90f9-5547-4908-9794-5a50f429e8d8",
   "metadata": {},
   "source": [
    "## A Decorator in python is any callable object which is called to modify a function or a class"
   ]
  },
  {
   "cell_type": "code",
   "execution_count": 2,
   "id": "59f18c19-2373-446c-8140-34f232772be7",
   "metadata": {},
   "outputs": [
    {
     "name": "stdout",
     "output_type": "stream",
     "text": [
      "Transaction initiated\n",
      "Executing the processes\n",
      "Transaction Completed\n"
     ]
    }
   ],
   "source": [
    "def decorator(func):\n",
    "    def wraper():\n",
    "        print(\"Transaction initiated\")\n",
    "        func()\n",
    "        print(\"Transaction Completed\")\n",
    "    return wraper()\n",
    "\n",
    "def hello():\n",
    "    print (\"Executing the processes\")\n",
    "\n",
    "hello1=decorator(hello)\n",
    "hello1"
   ]
  },
  {
   "cell_type": "code",
   "execution_count": 10,
   "id": "9346a00e-41de-4a7a-9fff-7e156c351b99",
   "metadata": {},
   "outputs": [
    {
     "name": "stdout",
     "output_type": "stream",
     "text": [
      "Function is being called.\n",
      "Hello, Alice!\n"
     ]
    }
   ],
   "source": [
    "def my_decorator(func):\n",
    "    def wrapper():\n",
    "        print(\"Start of function\")\n",
    "        func()  # Calling the original function\n",
    "        print(\"End of function\")\n",
    "    return wrapper\n",
    "\n",
    "@my_decorator\n",
    "def say_hello():\n",
    "    print(\"Hello!\")\n",
    "\n",
    "say_hello()\n"
   ]
  },
  {
   "cell_type": "code",
   "execution_count": 12,
   "id": "e292cbc8-f78f-4099-8fd5-d16419123490",
   "metadata": {},
   "outputs": [
    {
     "name": "stdout",
     "output_type": "stream",
     "text": [
      "Employee has salary of 29990 and experience of 3 years.\n",
      "Employee name is John and age is 28\n"
     ]
    }
   ],
   "source": [
    "def employee_decorator(employee_func):\n",
    "    def wrapper(name, age):  # Correct arguments matching the original function\n",
    "        print(f\"Employee has salary of 29990 and experience of 3 years.\")\n",
    "        return employee_func(name, age)  # Call the original function with name and age\n",
    "    return wrapper  # Return the wrapper function, not the result of calling it\n",
    "\n",
    "@employee_decorator\n",
    "def employee(name, age):\n",
    "    return f\"Employee name is {name} and age is {age}\"\n",
    "\n",
    "# Call the decorated function\n",
    "result = employee(\"John\", 28)\n",
    "print(result)\n"
   ]
  },
  {
   "cell_type": "code",
   "execution_count": 18,
   "id": "26097c53-0bc0-4155-926e-8080f36bb6da",
   "metadata": {},
   "outputs": [
    {
     "name": "stdout",
     "output_type": "stream",
     "text": [
      "These Greetings are from BJP\n",
      "Many Many Greetings from Ramakant\n"
     ]
    }
   ],
   "source": [
    "def greetings_decorator(greetings_func):\n",
    "    def wraper(name,PartyName):\n",
    "        print(f\"These Greetings are from {PartyName}\")\n",
    "        print(greetings_func(name,PartyName))\n",
    "    return wraper\n",
    "        \n",
    "\n",
    "\n",
    "\n",
    "\n",
    "\n",
    "\n",
    "@greetings_decorator\n",
    "def greetings_func(name,PartyName):\n",
    "    return f\"Many Many Greetings from {name}\"\n",
    "\n",
    "\n",
    "greetingz=greetings_func(\"Ramakant\",\"BJP\")\n"
   ]
  },
  {
   "cell_type": "code",
   "execution_count": 22,
   "id": "e41b5db7-fd77-4c85-bd94-9d2f4c9d1d3d",
   "metadata": {},
   "outputs": [
    {
     "data": {
      "text/plain": [
       "'hey Nikhil you are amazing'"
      ]
     },
     "execution_count": 22,
     "metadata": {},
     "output_type": "execute_result"
    }
   ],
   "source": [
    "def shout_name(name,shout=\"amazing\"):\n",
    "    return f\"hey {name} you are {shout}\"\n",
    "\n",
    "shout_name(\"Nikhil\")\n",
    "\n",
    "\n"
   ]
  },
  {
   "cell_type": "code",
   "execution_count": 1,
   "id": "7d831e67-fae2-4d7f-8d3d-d95a82897d77",
   "metadata": {},
   "outputs": [
    {
     "name": "stdout",
     "output_type": "stream",
     "text": [
      "HELLO JOHN!\n"
     ]
    }
   ],
   "source": [
    "# Define the decorator function\n",
    "def shout_decorator(func):\n",
    "    def wrapper(name):\n",
    "        # Call the original function and convert its output to uppercase\n",
    "        result = func(name).upper()\n",
    "        return result\n",
    "    return wrapper  # Return the wrapper function\n",
    "\n",
    "# Define the original function and apply the decorator\n",
    "@shout_decorator\n",
    "def greet(name):\n",
    "    return f\"Hello {name}!\"\n",
    "\n",
    "# Call the decorated function\n",
    "print(greet(\"John\"))\n",
    "        "
   ]
  },
  {
   "cell_type": "code",
   "execution_count": 13,
   "id": "0fef21dd-e431-48f2-b127-97d90da5011b",
   "metadata": {},
   "outputs": [
    {
     "data": {
      "text/plain": [
       "'The name of the employee is Aniket'"
      ]
     },
     "execution_count": 13,
     "metadata": {},
     "output_type": "execute_result"
    }
   ],
   "source": [
    "def employee(name,age):\n",
    "    return f\"The name of the employee is {name}\"\n",
    "\n",
    "employee(\"Aniket\",23)"
   ]
  },
  {
   "cell_type": "code",
   "execution_count": 19,
   "id": "21ed906c-40d5-4010-a8b5-d0ee777b9ece",
   "metadata": {},
   "outputs": [
    {
     "name": "stdout",
     "output_type": "stream",
     "text": [
      "here are the details:-\n"
     ]
    },
    {
     "data": {
      "text/plain": [
       "'Employee name is ANIKET and age is 23'"
      ]
     },
     "execution_count": 19,
     "metadata": {},
     "output_type": "execute_result"
    }
   ],
   "source": [
    "def details(func):\n",
    "    def wraper(name,age):\n",
    "        print(\"here are the details:-\")\n",
    "        return f\"Employee name is {name.upper() } and age is {age}\"\n",
    "\n",
    "    return wraper\n",
    "\n",
    "\n",
    "\n",
    "@details\n",
    "def employee(name,age):\n",
    "    return f\"The name of the employee is {name}\"\n",
    "\n",
    "employee(\"Aniket\",23)"
   ]
  },
  {
   "cell_type": "code",
   "execution_count": null,
   "id": "7a012cc2-8d9a-4cae-bff4-c15abde716da",
   "metadata": {},
   "outputs": [],
   "source": []
  }
 ],
 "metadata": {
  "kernelspec": {
   "display_name": "Python 3 (ipykernel)",
   "language": "python",
   "name": "python3"
  },
  "language_info": {
   "codemirror_mode": {
    "name": "ipython",
    "version": 3
   },
   "file_extension": ".py",
   "mimetype": "text/x-python",
   "name": "python",
   "nbconvert_exporter": "python",
   "pygments_lexer": "ipython3",
   "version": "3.12.4"
  }
 },
 "nbformat": 4,
 "nbformat_minor": 5
}

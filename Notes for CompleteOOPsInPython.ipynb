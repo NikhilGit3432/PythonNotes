{
 "cells": [
  {
   "cell_type": "code",
   "execution_count": 1,
   "id": "0f6ad9eb-8360-4cd5-9dc9-4b397caafcde",
   "metadata": {},
   "outputs": [],
   "source": [
    "## understanding Self in Python \n",
    "class Person:\n",
    "    def __init__(self,name,age):\n",
    "        self.name=name\n",
    "        self.age=age\n",
    "    def greet(self):\n",
    "        print(f\"I,am {self.name} and my age is {self.age} years\")"
   ]
  },
  {
   "cell_type": "code",
   "execution_count": 3,
   "id": "a877e2ab-7573-4948-8cd8-5a09a36e6026",
   "metadata": {},
   "outputs": [
    {
     "name": "stdout",
     "output_type": "stream",
     "text": [
      "I,am Nihkil and my age is 27 years\n"
     ]
    }
   ],
   "source": [
    "#Making Objetcs for diffrent persons\n",
    "Person1=Person(\"Nihkil\",\"27\")\n",
    "Person1.greet()"
   ]
  },
  {
   "cell_type": "markdown",
   "id": "6f23649f-1af6-4dbc-9376-a7b1308570e3",
   "metadata": {},
   "source": [
    "## Create your own Data Type"
   ]
  },
  {
   "cell_type": "markdown",
   "id": "9891955c-71fa-420a-bf4d-406e3e57f2a4",
   "metadata": {},
   "source": [
    "#### Theres a Need to create your own data type to obtain some specific results \n",
    "#### We do it by usually appling some magical methods "
   ]
  },
  {
   "cell_type": "code",
   "execution_count": 34,
   "id": "f65deb6b-e75a-4581-b25b-ba1a6312ccac",
   "metadata": {},
   "outputs": [
    {
     "name": "stdout",
     "output_type": "stream",
     "text": [
      "22/44\n",
      "2376/1936\n"
     ]
    }
   ],
   "source": [
    "# Here we not gonna use any magical methods to create our own data type \n",
    "\n",
    "class Fraction:\n",
    "    def __init__(self,num,den):\n",
    "        self.num=num\n",
    "        self.den=den\n",
    "    def Print(self):\n",
    "        return \"{}/{}\".format(self.num,self.den)\n",
    "    def FracSum(self,Frac2):\n",
    "        Num=(self.num*Frac2.den)+(self.den*Frac2.num)\n",
    "        Deno=(Frac1.den)*(Frac2.den)\n",
    "        return \"{}/{}\".format(Num,Deno) \n",
    "\n",
    "Frac1=Fraction(22,44)\n",
    "print(Frac1.Print())\n",
    "Frac2=Fraction(32,44) \n",
    "print(Frac1.FracSum(Frac2))"
   ]
  },
  {
   "cell_type": "markdown",
   "id": "6e7f731b-f81f-4996-8033-e6c0406c39ed",
   "metadata": {},
   "source": [
    "## 1;23:27 Encapsulation "
   ]
  },
  {
   "cell_type": "code",
   "execution_count": 42,
   "id": "95bf4499-c861-473c-ae3a-3a093050f04b",
   "metadata": {},
   "outputs": [
    {
     "data": {
      "text/plain": [
       "200000"
      ]
     },
     "execution_count": 42,
     "metadata": {},
     "output_type": "execute_result"
    }
   ],
   "source": [
    "# Encapsulation technique in python\n",
    "# Protected parameters\n",
    "class Employee:\n",
    "    def __init__(self,name,salary):\n",
    "        self.name=name\n",
    "        self.salary=salary \n",
    "\n",
    "Person1=Employee(\"Aniket\",200000)\n",
    "Person1.name\n",
    "Person1.salary\n",
    "\n",
    "class Employee:\n",
    "    def __init__(self,name,salary):\n",
    "        self.name=name\n",
    "        self._salary=salary # Now this is protected, if try to acces this attribute by calling object we wont be able to do so\n",
    "\n",
    "Person1=Employee(\"Aniket\",200000)\n",
    "Person1.name\n",
    "\n",
    "\n"
   ]
  },
  {
   "cell_type": "code",
   "execution_count": 46,
   "id": "737c05d5-5323-4897-b61c-53c8be320bd3",
   "metadata": {},
   "outputs": [
    {
     "data": {
      "text/plain": [
       "'Aniket'"
      ]
     },
     "execution_count": 46,
     "metadata": {},
     "output_type": "execute_result"
    }
   ],
   "source": [
    "#Making Attributes private\n",
    "class Employee:\n",
    "    def __init__(self,name,salary):\n",
    "        self.name=name\n",
    "        self.salary=salary \n",
    "\n",
    "Person1=Employee(\"Aniket\",200000)\n",
    "Person1.name\n",
    "Person1.salary\n",
    "\n",
    "class Employee:\n",
    "    def __init__(self,name,salary):\n",
    "        self.name=name\n",
    "        self.__salary=salary # Now this is Private, if try to acces this attribute by calling object we wont be able to do so\n",
    "\n",
    "Person1=Employee(\"Aniket\",200000)\n",
    "Person1.name"
   ]
  },
  {
   "cell_type": "code",
   "execution_count": 74,
   "id": "b63f91ee-e5ef-4b7f-8da4-95ef10e90cda",
   "metadata": {},
   "outputs": [
    {
     "name": "stdin",
     "output_type": "stream",
     "text": [
      "Enter a new Salary:  1231131\n"
     ]
    },
    {
     "data": {
      "text/plain": [
       "1231131"
      ]
     },
     "execution_count": 74,
     "metadata": {},
     "output_type": "execute_result"
    }
   ],
   "source": [
    "## Accsesing the pratedtede attrbute and changing its values\n",
    "class Employee:\n",
    "    def __init__(self,name,salary):\n",
    "        self.name=name\n",
    "        self._salary=salary \n",
    "    def get_salary(self):\n",
    "        return self._salary\n",
    "    def set_salary(self):\n",
    "        new_salary=int(input(\"Enter a new Salary: \"))\n",
    "        if type(new_salary) == int:\n",
    "            self._salary=int(new_salary)\n",
    "        return (new_salary)\n",
    "\n",
    "Person1=Employee(\"Aniket\",200000)\n",
    "Person1.name # here we are accesing the attribute of init constructor so we did not put ()\n",
    "Person1.get_salary() # Here we are accessiong the whole method so we had to put ()\n",
    "Person1.set_salary()\n"
   ]
  },
  {
   "cell_type": "markdown",
   "id": "0f4ccb54-d52d-4190-94fd-61a199e4837b",
   "metadata": {},
   "source": [
    "## 1:59:39 Pass By Refence \n",
    "### In this the objects can be changed inside the function and this change affects the original objecta and change is permenant\n",
    "### Mutable objects (like lists, dictionaries, sets) can be modified within a function because they are passed by reference.\n"
   ]
  },
  {
   "cell_type": "code",
   "execution_count": 95,
   "id": "732f26f4-1466-49fd-864c-48929f112b33",
   "metadata": {},
   "outputs": [
    {
     "name": "stdout",
     "output_type": "stream",
     "text": [
      "[1, 2, 3, 100]\n",
      "[1, 2, 3, 100]\n"
     ]
    }
   ],
   "source": [
    "# By by refencce is wehn wwe try to change the valu of teh objects taht are mutable in nanture \n",
    "# List,dictionary,set\n",
    "def change_list(lst):\n",
    "    lst.append(100)\n",
    "    return lst\n",
    "List=[1,2,3]\n",
    "print(\"Inside Functon: \",change_list(List))\n",
    "print(\"Outside Function: \",List)\n"
   ]
  },
  {
   "cell_type": "markdown",
   "id": "9b7a8c0c-8768-4d4c-9d38-524d36473ebd",
   "metadata": {},
   "source": [
    "## Pass by value\n",
    "### Changes inside the function do not affect the original object (pass by value).\n",
    "### (like integers, strings, tuples) cannot be modified directly within a function. If you attempt to change them, a new object is created."
   ]
  },
  {
   "cell_type": "code",
   "execution_count": 109,
   "id": "6929a55f-f3c7-4242-9ccf-95956c856030",
   "metadata": {},
   "outputs": [
    {
     "name": "stdout",
     "output_type": "stream",
     "text": [
      "Inside function n:,34\n",
      "Outside function n:  24\n"
     ]
    }
   ],
   "source": [
    "# Pass by value is when you attempt change the attribute that is immutable in nature \n",
    "# Strngs, int , float, tuple\n",
    "def change_number(n):\n",
    "    n=34\n",
    "    return f\"Inside function n:,{n}\"\n",
    "\n",
    "n=24\n",
    "print(change_number(n))\n",
    "print(\"Outside function n: \",n)\n"
   ]
  },
  {
   "cell_type": "code",
   "execution_count": 20,
   "id": "1907c16a-c2b9-4875-9870-e0f5dfa9b70d",
   "metadata": {},
   "outputs": [
    {
     "name": "stdout",
     "output_type": "stream",
     "text": [
      "[1, 2, 3, 4, 44]\n",
      "[1, 2, 3, 4, 44]\n"
     ]
    }
   ],
   "source": [
    "# Example 1: Demonstrating \"Pass by Value\" behavior (with immutable types)\n",
    "\n",
    "# Function that tries to modify an integer\n",
    "# Integers are immutable in Python, so the change will not reflect outside the function.\n",
    "def Number(n):\n",
    "    # This assigns a new value 100 to the local variable 'n'\n",
    "    n = 100  # This only changes 'n' within the function, not outside\n",
    "    return n  # Return the modified value of 'n'\n",
    "\n",
    "# Outside the function, we define 'n' with an initial value of 234\n",
    "n = 234\n",
    "\n",
    "# When we pass 'n' (an integer, which is immutable) to the function, \n",
    "# it does not modify the original 'n' in the calling scope\n",
    "print(Number(n))  # Output: 100 (this is the returned value from the function)\n",
    "\n",
    "# 'n' outside the function remains unchanged because integers are immutable.\n",
    "# The function creates a new local copy of 'n' inside the function\n",
    "# rather than modifying the original object.\n",
    "print(n)  # Output: 234 (the original value remains unchanged)\n",
    "\n",
    "#==================================================================#\n",
    "\n",
    "# Example 2: Demonstrating \"Pass by Reference\" behavior (with mutable types)\n",
    "\n",
    "# Function that modifies a list by adding an element to it\n",
    "# Lists are mutable, so changes made inside the function affect the original list.\n",
    "def Numbers(List, n):\n",
    "    # Append the new value 'n' to the original List (modifying the object itself)\n",
    "    List.append(n)  # This modifies the original List since lists are mutable\n",
    "    return List  # Return the modified List\n",
    "\n",
    "# Outside the function, we define a list with some initial values\n",
    "List = [1, 2, 3, 4]\n",
    "\n",
    "# Passing the list 'List' to the function\n",
    "# Since lists are mutable, changes made in the function will affect the original list\n",
    "print(Numbers(List, 44))  # Output: [1, 2, 3, 4, 44] (44 is added to the list)\n",
    "\n",
    "# The original list 'List' is also modified because lists are mutable.\n",
    "print(List)  # Output: [1, 2, 3, 4, 44] (the original list reflects the change)\n",
    "\n",
    "#=====================================================================#\n"
   ]
  },
  {
   "cell_type": "markdown",
   "id": "2b182bd9-fdc0-4fb6-bc46-8d729a33ca5f",
   "metadata": {},
   "source": [
    "# revision"
   ]
  },
  {
   "cell_type": "code",
   "execution_count": 28,
   "id": "93ccb385-0343-4c87-ba64-14712fe797c6",
   "metadata": {},
   "outputs": [
    {
     "name": "stdout",
     "output_type": "stream",
     "text": [
      "This is inside the function: Rakesh and Mishra\n",
      "This is outside the function :  Nikhil Bhosale\n"
     ]
    }
   ],
   "source": [
    "def full_name(name,surname):\n",
    "    name=\"Rakesh\"\n",
    "    surname=\"Mishra\"\n",
    "    return f\"This is inside the function: {name} and {surname}\"\n",
    "\n",
    "name=\"Nikhil\"\n",
    "surname=\"Bhosale\"\n",
    "EMP1=full_name(name,surname)\n",
    "print(EMP1)\n",
    "print(\"This is outside the function : \",name, surname)"
   ]
  },
  {
   "cell_type": "code",
   "execution_count": 40,
   "id": "9f87547f-7877-4bb1-8c21-af669fcac2b2",
   "metadata": {},
   "outputs": [
    {
     "name": "stdout",
     "output_type": "stream",
     "text": [
      "This is inside the function:[1, 2, 3, 54]\n",
      "This is outside the function :  [1, 2, 3, 54]\n"
     ]
    }
   ],
   "source": [
    "def Numbers(List,n):\n",
    "    List.append(n)\n",
    "    return f\"This is inside the function:{List}\"\n",
    "\n",
    "List=[1,2,3]\n",
    "NUMB=Numbers(List,54)\n",
    "print(NUMB)\n",
    "print(\"This is outside the function : \",List)"
   ]
  },
  {
   "cell_type": "code",
   "execution_count": 101,
   "id": "c3d0a68c-bf61-4985-b80d-02d8ce6fb397",
   "metadata": {},
   "outputs": [
    {
     "name": "stdout",
     "output_type": "stream",
     "text": [
      "Rakesh\n"
     ]
    }
   ],
   "source": [
    "class Full_Name:\n",
    "    def __init__(self,name,surname):\n",
    "        self.name=name\n",
    "        self.surname=surname\n",
    "       \n",
    "def change(person):\n",
    "    person.name=\"Rakesh\"\n",
    "    person.surname= \"Mishra\"\n",
    "    return f\"inside the class method: {person.name} and {person.surname}\"\n",
    "        \n",
    "name=\"Nikhil\"\n",
    "surname=\"Bhosale\"\n",
    "Person1=Full_Name(name,surname)\n",
    "change(Person1)\n",
    "print(Person1.name)"
   ]
  },
  {
   "cell_type": "code",
   "execution_count": 91,
   "id": "fd7611a8-ee5b-459b-8f84-c881865ffcb3",
   "metadata": {},
   "outputs": [
    {
     "name": "stdout",
     "output_type": "stream",
     "text": [
      "Before Function Call: Name = Nikhil, Age = 25\n",
      "Inside Function: Name = Rahul, Age = 30\n",
      "After Function Call: Name = Rahul, Age = 30\n"
     ]
    }
   ],
   "source": [
    "# Define a class named 'Person'\n",
    "class Person:\n",
    "    def __init__(self, name, age):\n",
    "        self.name = name  # Initialize the 'name' attribute\n",
    "        self.age = age  # Initialize the 'age' attribute\n",
    "\n",
    "# Function that modifies the object passed to it (demonstrates pass by reference)\n",
    "def modify_person(person):\n",
    "    # Modify the object's attributes inside the function\n",
    "    person.name = \"Rahul\"  # Modify the name attribute\n",
    "    person.age = 30  # Modify the age attribute\n",
    "    print(f\"Inside Function: Name = {person.name}, Age = {person.age}\")\n",
    "\n",
    "# Create an instance of the Person class\n",
    "person1 = Person(\"Nikhil\", 25)\n",
    "\n",
    "# Print the initial state of the object before passing it to the function\n",
    "print(f\"Before Function Call: Name = {person1.name}, Age = {person1.age}\")\n",
    "\n",
    "# Pass the object to the function (pass by reference)\n",
    "modify_person(person1)\n",
    "\n",
    "# Print the state of the object after the function call\n",
    "print(f\"After Function Call: Name = {person1.name}, Age = {person1.age}\")\n"
   ]
  },
  {
   "cell_type": "markdown",
   "id": "eb2fe9c6-c962-4134-bc41-480959084bcd",
   "metadata": {},
   "source": [
    "### Assignment 3: Nested Data Structures\n",
    "Pass a dictionary that contains a list as a value to a function. Modify the list inside the dictionary in the function.\n",
    "\n",
    "Task:\n",
    "\n",
    "Define a dictionary where one of the values is a list.\n",
    "Write a function that adds elements to the list inside the dictionary.\n",
    "Call the function and check how the dictionary is modified.\n",
    "Expected Output:\n",
    "\n",
    "The dictionary should reflect the changes to the list after the function call."
   ]
  },
  {
   "cell_type": "code",
   "execution_count": 104,
   "id": "815d9800-92e7-4372-91d6-8716c12b2036",
   "metadata": {},
   "outputs": [
    {
     "name": "stdout",
     "output_type": "stream",
     "text": [
      "{'name': 'Alice', 'hobbies': ['reading', 'cycling', 'Crickets']}\n"
     ]
    }
   ],
   "source": [
    "my_dict = {\n",
    "    'name': 'Alice',\n",
    "    'hobbies': ['reading', 'cycling']\n",
    "}\n",
    "\n",
    "def change_list(dict,value,element):\n",
    "    dict[value].append(element)\n",
    "    return dict\n",
    "\n",
    "print(change_list(my_dict,\"hobbies\",\"Crickets\"))\n"
   ]
  },
  {
   "cell_type": "markdown",
   "id": "995c8a98-6b10-45f6-9f52-a4c266202da3",
   "metadata": {},
   "source": [
    "## Assignment 4: Modify Nested Class Object Attributes\n",
    "Create two classes Person and Address. The Person class should contain an Address object. Modify the address of a Person object using a function.\n",
    "\n",
    "Task:\n",
    "\n",
    "Create an instance of Person with an Address object.\n",
    "Write a function that modifies the Address object inside the Person object.\n",
    "Call the function and check if the address is updated outside the function.\n",
    "Expected Output:\n",
    "\n",
    "The Person object’s address should be modified after calling the function."
   ]
  },
  {
   "cell_type": "markdown",
   "id": "af9ee11c-76ed-4333-a3f7-89b9d87cc498",
   "metadata": {},
   "source": [
    "#### Solution 2 :- defining the Address object as an attribte into the Person class"
   ]
  },
  {
   "cell_type": "code",
   "execution_count": 185,
   "id": "c62d7e9d-0aa9-4e5f-8b53-e0858d557359",
   "metadata": {},
   "outputs": [
    {
     "name": "stdout",
     "output_type": "stream",
     "text": [
      "Before change: Nikhil lives at The address is: Pune, Maharashtra, India\n",
      "After change: Rakesh lives at The address is: Mumbai, Maharashtra, India\n",
      "Changed name: Rakesh\n"
     ]
    }
   ],
   "source": [
    "# Define the Address class\n",
    "class Address:\n",
    "    def __init__(self, city, state, country):\n",
    "        self.city = city\n",
    "        self.state = state\n",
    "        self.country = country\n",
    "\n",
    "    def __str__(self):\n",
    "        return f\"The address is: {self.city}, {self.state}, {self.country}\"\n",
    "\n",
    "# Define the Person class with Address as an attribute\n",
    "class Person:\n",
    "    def __init__(self, name, address):\n",
    "        self.name = name\n",
    "        self.address = address  # Address is now an attribute of Person\n",
    "\n",
    "    def __str__(self):\n",
    "        return f\"{self.name} lives at {self.address}\"\n",
    "\n",
    "# Function to modify the Person object attributes\n",
    "def Change_add_person(person):\n",
    "    person.name = \"Rakesh\"\n",
    "    person.address.city = \"Mumbai\"  # Modify the city attribute of Address\n",
    "    person.address.state = \"Maharashtra\"  # Modify the state attribute of Address\n",
    "    person.address.country = \"India\"  # Modify the country attribute of Address\n",
    "    return person  # Return the modified Person object itself\n",
    "\n",
    "# Initial values for Address\n",
    "City = \"Pune\"\n",
    "State = \"Maharashtra\"\n",
    "Country = \"India\"\n",
    "Name = \"Nikhil\"\n",
    "\n",
    "# Create an Address object\n",
    "address = Address(City, State, Country)\n",
    "\n",
    "# Create a Person object with the Address object\n",
    "P1 = Person(Name, address)\n",
    "\n",
    "# Print initial details of the Person\n",
    "print(\"Before change:\", P1)\n",
    "\n",
    "# Change the Person's name and address\n",
    "P1 = Change_add_person(P1)  # Update P1 with the modified Person object\n",
    "\n",
    "# Print the updated Person object\n",
    "print(\"After change:\", P1)\n",
    "\n",
    "# Access the 'name' attribute from the updated Person object\n",
    "print(\"Changed name:\", P1.name)\n"
   ]
  },
  {
   "cell_type": "markdown",
   "id": "84c95142-1b64-4ead-89cb-0bac86ce16b2",
   "metadata": {},
   "source": [
    "## 2:11:48 Collection of Objects "
   ]
  },
  {
   "cell_type": "code",
   "execution_count": 31,
   "id": "a8e7bb24-d3de-49c6-be36-d7b8d5627045",
   "metadata": {},
   "outputs": [
    {
     "name": "stdout",
     "output_type": "stream",
     "text": [
      "Nikhil\n",
      "Aniket\n"
     ]
    }
   ],
   "source": [
    "# Function to create a name object\n",
    "def Name(name, surname):\n",
    "    return {\"name\": name, \"surname\": surname}\n",
    "\n",
    "# Creating name objects using the function\n",
    "n1 = Name(\"Nikhil\", \"Bhosale\")  # Object for first name\n",
    "n2 = Name(\"Aniket\", \"Pawar\")    # Object for second name\n",
    "\n",
    "# Collecting objects into a list\n",
    "List = [n1, n2]\n",
    "\n",
    "# Iterating through the list and printing the names\n",
    "for n in List:\n",
    "    print(n[\"name\"])\n"
   ]
  },
  {
   "cell_type": "markdown",
   "id": "3d0acca0-8d0e-4eae-870c-6aac09994054",
   "metadata": {},
   "source": [
    "## 2:16:53 Instance Variable and Static Variable "
   ]
  },
  {
   "cell_type": "code",
   "execution_count": 53,
   "id": "ee31d270-3664-4127-882d-d440a8e251c6",
   "metadata": {},
   "outputs": [],
   "source": [
    "class Employee:\n",
    "    company_name=\"TechMahndra\" # this is class variable value is same for all the instances or objects ceated \n",
    "    def __init__(self,name,surname):\n",
    "        self.name=name # this is instance variable  may varry \n",
    "        self.surname=surname # this is instance variable may varry\n",
    "\n",
    "\n"
   ]
  },
  {
   "cell_type": "code",
   "execution_count": 55,
   "id": "e324fc15-6a20-46f5-b22b-2223d197d69b",
   "metadata": {},
   "outputs": [
    {
     "data": {
      "text/plain": [
       "'Sagar'"
      ]
     },
     "execution_count": 55,
     "metadata": {},
     "output_type": "execute_result"
    }
   ],
   "source": [
    "emp1=Employee(\"Sagar\",\"Deshmukh\")\n",
    "emp1.company_name\n",
    "emp1.name"
   ]
  },
  {
   "cell_type": "markdown",
   "id": "5967d04c-a5f1-4682-b9b6-f43768a715c3",
   "metadata": {},
   "source": [
    "## 2:31:16 Class Relatonship Aggregation and Inheritance \n"
   ]
  },
  {
   "cell_type": "markdown",
   "id": "79df257d-2d4b-49ba-a339-53e2460e7360",
   "metadata": {},
   "source": [
    "### Aggregation -- Has A kind of relation \n",
    "#### Class Relationship: Aggregation\n",
    "Aggregation is a type of association between two classes where one class contains a reference to another class, but both classes can exist independently. It represents a \"has-a\" relationship, meaning one object contains another object as part of its state, but they have independent lifecycles. This is different from composition, where the contained object’s lifecycle is dependent on the container object.\n",
    "\n",
    "In aggregation:\n",
    "\n",
    "The lifetime of the contained object is independent of the containing object.\n",
    "If the containing object is destroyed, the contained object can still exist.\n"
   ]
  },
  {
   "cell_type": "code",
   "execution_count": 78,
   "id": "2671de7e-a1d7-4156-aa8c-e5bf47e67ef4",
   "metadata": {},
   "outputs": [
    {
     "name": "stdout",
     "output_type": "stream",
     "text": [
      "Name: John\n",
      "Address: MG Road, Pune - 411001\n"
     ]
    },
    {
     "data": {
      "text/plain": [
       "'MG Road'"
      ]
     },
     "execution_count": 78,
     "metadata": {},
     "output_type": "execute_result"
    }
   ],
   "source": [
    "class Address:\n",
    "    def __init__(self, street, city, pincode):\n",
    "        self.street = street\n",
    "        self.city = city\n",
    "        self.pincode = pincode\n",
    "\n",
    "class Person:\n",
    "    def __init__(self, name, address):\n",
    "        self.name = name\n",
    "        # Aggregation: Person has an Address\n",
    "        self.address = address\n",
    "\n",
    "    def display(self):\n",
    "        print(f\"Name: {self.name}\")\n",
    "        print(f\"Address: {self.address.street}, {self.address.city} - {self.address.pincode}\")\n",
    "\n",
    "# Creating an Address object\n",
    "addr = Address(\"MG Road\", \"Pune\", \"411001\")\n",
    "\n",
    "# Creating a Person object with the address\n",
    "person = Person(\"John\", addr)\n",
    "\n",
    "# Displaying person details\n",
    "person.display()\n",
    "person.address.street"
   ]
  },
  {
   "cell_type": "markdown",
   "id": "21d462c8-44b9-42a4-9024-5c7d3c663151",
   "metadata": {},
   "source": [
    "## Inheritance in Class Relationships\n",
    "### Inheritance is one of the fundamental concepts in Object-Oriented Programming (OOP). It defines a relationship where one class (child class or subclass) inherits attributes and methods from another class (parent class or superclass). This relationship represents an \"is-a\" relationship.\n",
    "\n",
    "### Key Concepts:\n",
    "Parent Class (Superclass): The class whose properties and methods are inherited.\n",
    "Child Class (Subclass): The class that inherits from the parent class.\n",
    "Features of Inheritance:\n",
    "Code Reusability: The subclass can use methods and properties of the parent class.\n",
    "Overriding: The subclass can modify or override methods of the parent class."
   ]
  },
  {
   "cell_type": "code",
   "execution_count": 100,
   "id": "d8d650b5-5e23-484b-9e0b-4c4cdbe6eef0",
   "metadata": {},
   "outputs": [
    {
     "name": "stdout",
     "output_type": "stream",
     "text": [
      "This is a method from the ChildClass\n"
     ]
    }
   ],
   "source": [
    "class ParentClass:\n",
    "    # Parent class constructor and methods\n",
    "    def __init__(self, param1):\n",
    "        self.param1 = param1\n",
    "\n",
    "    def parent_method(self):\n",
    "        return f\"This is a method from the ParentClass\"\n",
    "\n",
    "class ChildClass(ParentClass):  # Inheriting ParentClass\n",
    "    # Child class constructor and methods\n",
    "    def __init__(self, param1, param2):\n",
    "        # Call the constructor of the parent class\n",
    "        super().__init__(param1)\n",
    "        self.param2 = param2\n",
    "\n",
    "    def child_method(self):\n",
    "        print(\"This is a method from the ChildClass\")\n",
    "\n",
    "\n",
    "C1=ChildClass(\"Class1\",\"Studies\")\n",
    "C1.parent_method()\n",
    "C1.child_method()"
   ]
  },
  {
   "cell_type": "markdown",
   "id": "92fef3d8-d8f3-4484-b5c8-d06b46b78a52",
   "metadata": {},
   "source": [
    "## Method Overriding \n",
    "### Method Overriding in Polymorphism\n",
    "Polymorphism refers to the ability of different objects to be accessed through the same interface. In simpler terms, it allows different types of objects to be treated as if they are instances of the same class, and the exact method that is called depends on the object that is invoking it.\n",
    "\n",
    "Method Overriding is a key feature of polymorphism in object-oriented programming. When a subclass provides its own implementation of a method that is already defined in its parent class, we call it method overriding.\n",
    "\n",
    "### Key Points of Method Overriding:\n",
    "The child class overrides a method from the parent class.\n",
    "The overridden method in the child class has the same name, parameters, and return type as the method in the parent class.\n",
    "The version of the method that is called depends on the object (polymorphism)."
   ]
  },
  {
   "cell_type": "code",
   "execution_count": 103,
   "id": "cbfc11ab-b174-4b79-97f0-50d99bda665a",
   "metadata": {},
   "outputs": [
    {
     "name": "stdout",
     "output_type": "stream",
     "text": [
      "The dog barks.\n",
      "The cat meows.\n"
     ]
    }
   ],
   "source": [
    "# Parent class\n",
    "class Animal:\n",
    "    def speak(self):\n",
    "        print(\"The animal makes a sound.\")\n",
    "\n",
    "# Child class Dog inherits from Animal\n",
    "class Dog(Animal):\n",
    "    def speak(self):\n",
    "        print(\"The dog barks.\")\n",
    "\n",
    "# Child class Cat inherits from Animal\n",
    "class Cat(Animal):\n",
    "    def speak(self):\n",
    "        print(\"The cat meows.\")\n",
    "\n",
    "# Using polymorphism to treat objects of different classes as the same type\n",
    "def make_animal_speak(animal):\n",
    "    animal.speak()  # This will call the overridden method in the correct subclass\n",
    "\n",
    "# Creating objects\n",
    "dog = Dog()\n",
    "cat = Cat()\n",
    "\n",
    "# Calling the speak method (polymorphism in action)\n",
    "make_animal_speak(dog)  # Output: The dog barks.\n",
    "make_animal_speak(cat)  # Output: The cat meows.\n"
   ]
  },
  {
   "cell_type": "markdown",
   "id": "80043cb4-6076-45dd-8b1b-5f706c291a91",
   "metadata": {},
   "source": [
    "## Assignments on Method Overriding in Polymorphism "
   ]
  },
  {
   "cell_type": "raw",
   "id": "2e5bd6b4-c0e2-475e-9d20-d215444095e7",
   "metadata": {},
   "source": [
    "Assignment 1: Basic Method Overriding\n",
    "Create a parent class called Vehicle with a method called start_engine that prints \"Starting vehicle engine...\". Then, create two child classes, Car and Bike, both of which override the start_engine method:\n",
    "\n",
    "In the Car class, print \"Starting car engine...\".\n",
    "In the Bike class, print \"Starting bike engine...\".\n",
    "Instructions:\n",
    "\n",
    "Create the Vehicle class and define the start_engine method.\n",
    "Create the Car and Bike classes that inherit from Vehicle and override the start_engine method.\n",
    "Create objects of Car and Bike and call the start_engine method to demonstrate method overriding."
   ]
  },
  {
   "cell_type": "code",
   "execution_count": 189,
   "id": "cf1ee1c9-1390-445a-b117-031d8dc054c2",
   "metadata": {},
   "outputs": [
    {
     "data": {
      "text/plain": [
       "' Vehicle started Car started'"
      ]
     },
     "execution_count": 189,
     "metadata": {},
     "output_type": "execute_result"
    }
   ],
   "source": [
    "class Vehicle:\n",
    "    def __init__(self,status):\n",
    "        self.status=status\n",
    "    def engine(self):\n",
    "        # self.status=input(\"Vehicle Start of stop\")\n",
    "        if self.status==\"start\":\n",
    "            return f\"Vehicle started\"\n",
    "        else:\n",
    "            return f\"Vehicle stopped\"\n",
    "\n",
    "\n",
    "class Car(Vehicle):\n",
    "    def __init__(self,status):\n",
    "        super().__init__(status)  # Initialize parent class Vehicle\n",
    "    def engine(self):\n",
    "        if self.status==\"start\":\n",
    "            vehicle_engine=super().engine()\n",
    "            return f\" {vehicle_engine} Car started\"\n",
    "            \n",
    "        else:\n",
    "            return f\"{vehicle_engine} and Car stopped\"\n",
    "\n",
    "c1=Car(\"start\")\n",
    "c1.engine()\n",
    "           "
   ]
  },
  {
   "cell_type": "code",
   "execution_count": 171,
   "id": "5f4c1614-60ca-4d54-a0d8-ddec5dec6f7c",
   "metadata": {},
   "outputs": [
    {
     "name": "stdout",
     "output_type": "stream",
     "text": [
      "Vehicle started - Car started\n"
     ]
    }
   ],
   "source": [
    "class Vehicle:\n",
    "    def __init__(self, status):\n",
    "        self.status = status\n",
    "\n",
    "    def engine(self):\n",
    "        if self.status == \"start\":\n",
    "            return \"Vehicle started\"\n",
    "        else:\n",
    "            return \"Vehicle stopped\"\n",
    "\n",
    "class Car(Vehicle):\n",
    "    def __init__(self, status):\n",
    "        super().__init__(status)  # Initialize parent class Vehicle\n",
    "\n",
    "    def engine(self):\n",
    "        if self.status == \"start\":\n",
    "            # Call the parent class's engine method using super()\n",
    "            vehicle_message = super().engine()\n",
    "            return f\"{vehicle_message} - Car started\"\n",
    "        else:\n",
    "            return f\"Car stopped\"\n",
    "\n",
    "# Test the classes\n",
    "v = Vehicle(\"start\")\n",
    "print(v.engine())  # Output: Vehicle started\n",
    "\n",
    "c = Car(\"start\")\n",
    "print(c.engine())  # Output: Vehicle started - Car started\n",
    "\n",
    "# c2 = Car(\"stop\")\n",
    "# print(c2.engine())  # Output: Car stopped\n"
   ]
  },
  {
   "cell_type": "code",
   "execution_count": null,
   "id": "46488b50-8963-4119-a850-bdc6b8e87c3f",
   "metadata": {},
   "outputs": [],
   "source": []
  }
 ],
 "metadata": {
  "kernelspec": {
   "display_name": "Python 3 (ipykernel)",
   "language": "python",
   "name": "python3"
  },
  "language_info": {
   "codemirror_mode": {
    "name": "ipython",
    "version": 3
   },
   "file_extension": ".py",
   "mimetype": "text/x-python",
   "name": "python",
   "nbconvert_exporter": "python",
   "pygments_lexer": "ipython3",
   "version": "3.12.4"
  }
 },
 "nbformat": 4,
 "nbformat_minor": 5
}

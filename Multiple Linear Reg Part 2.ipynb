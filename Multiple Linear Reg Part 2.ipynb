{
 "cells": [
  {
   "cell_type": "markdown",
   "id": "dedfbec2-547d-4e1e-bead-076f2dbc8f62",
   "metadata": {},
   "source": [
    "\n",
    "# Multiple Linear Regression \n",
    "is typically done when you have multiple correlated features (independent variables) and a single output feature (dependent variable).\n",
    "\n",
    "However, if you have multiple output features, you would generally use a different approach, like Multivariate Linear Regression, which can handle multiple dependent variables.\n",
    "\n",
    "## So to summarize:\n",
    "\n",
    "### Multiple Linear Regression: \n",
    "Multiple correlated features → Single output feature.\n",
    "### Multivariate Linear Regression: \n",
    "Multiple correlated features → Multiple output features."
   ]
  },
  {
   "cell_type": "code",
   "execution_count": 1,
   "id": "3e9ec0ca-e0be-4007-888f-0339171db6f1",
   "metadata": {},
   "outputs": [],
   "source": [
    "import pandas as pd\n",
    "import seaborn as sns\n",
    "import matplotlib.pyplot as plt\n",
    "from sklearn.linear_model import LinearRegression\n",
    "from sklearn.metrics import mean_absolute_error,mean_squared_error,r2_score"
   ]
  },
  {
   "cell_type": "code",
   "execution_count": 2,
   "id": "92404cde-969f-4890-82d7-66278505f6e5",
   "metadata": {},
   "outputs": [
    {
     "data": {
      "text/html": [
       "<div>\n",
       "<style scoped>\n",
       "    .dataframe tbody tr th:only-of-type {\n",
       "        vertical-align: middle;\n",
       "    }\n",
       "\n",
       "    .dataframe tbody tr th {\n",
       "        vertical-align: top;\n",
       "    }\n",
       "\n",
       "    .dataframe thead th {\n",
       "        text-align: right;\n",
       "    }\n",
       "</style>\n",
       "<table border=\"1\" class=\"dataframe\">\n",
       "  <thead>\n",
       "    <tr style=\"text-align: right;\">\n",
       "      <th></th>\n",
       "      <th>sepal_length</th>\n",
       "      <th>sepal_width</th>\n",
       "      <th>petal_length</th>\n",
       "      <th>petal_width</th>\n",
       "      <th>species</th>\n",
       "    </tr>\n",
       "  </thead>\n",
       "  <tbody>\n",
       "    <tr>\n",
       "      <th>0</th>\n",
       "      <td>5.1</td>\n",
       "      <td>3.5</td>\n",
       "      <td>1.4</td>\n",
       "      <td>0.2</td>\n",
       "      <td>setosa</td>\n",
       "    </tr>\n",
       "    <tr>\n",
       "      <th>1</th>\n",
       "      <td>4.9</td>\n",
       "      <td>3.0</td>\n",
       "      <td>1.4</td>\n",
       "      <td>0.2</td>\n",
       "      <td>setosa</td>\n",
       "    </tr>\n",
       "    <tr>\n",
       "      <th>2</th>\n",
       "      <td>4.7</td>\n",
       "      <td>3.2</td>\n",
       "      <td>1.3</td>\n",
       "      <td>0.2</td>\n",
       "      <td>setosa</td>\n",
       "    </tr>\n",
       "    <tr>\n",
       "      <th>3</th>\n",
       "      <td>4.6</td>\n",
       "      <td>3.1</td>\n",
       "      <td>1.5</td>\n",
       "      <td>0.2</td>\n",
       "      <td>setosa</td>\n",
       "    </tr>\n",
       "    <tr>\n",
       "      <th>4</th>\n",
       "      <td>5.0</td>\n",
       "      <td>3.6</td>\n",
       "      <td>1.4</td>\n",
       "      <td>0.2</td>\n",
       "      <td>setosa</td>\n",
       "    </tr>\n",
       "    <tr>\n",
       "      <th>...</th>\n",
       "      <td>...</td>\n",
       "      <td>...</td>\n",
       "      <td>...</td>\n",
       "      <td>...</td>\n",
       "      <td>...</td>\n",
       "    </tr>\n",
       "    <tr>\n",
       "      <th>145</th>\n",
       "      <td>6.7</td>\n",
       "      <td>3.0</td>\n",
       "      <td>5.2</td>\n",
       "      <td>2.3</td>\n",
       "      <td>virginica</td>\n",
       "    </tr>\n",
       "    <tr>\n",
       "      <th>146</th>\n",
       "      <td>6.3</td>\n",
       "      <td>2.5</td>\n",
       "      <td>5.0</td>\n",
       "      <td>1.9</td>\n",
       "      <td>virginica</td>\n",
       "    </tr>\n",
       "    <tr>\n",
       "      <th>147</th>\n",
       "      <td>6.5</td>\n",
       "      <td>3.0</td>\n",
       "      <td>5.2</td>\n",
       "      <td>2.0</td>\n",
       "      <td>virginica</td>\n",
       "    </tr>\n",
       "    <tr>\n",
       "      <th>148</th>\n",
       "      <td>6.2</td>\n",
       "      <td>3.4</td>\n",
       "      <td>5.4</td>\n",
       "      <td>2.3</td>\n",
       "      <td>virginica</td>\n",
       "    </tr>\n",
       "    <tr>\n",
       "      <th>149</th>\n",
       "      <td>5.9</td>\n",
       "      <td>3.0</td>\n",
       "      <td>5.1</td>\n",
       "      <td>1.8</td>\n",
       "      <td>virginica</td>\n",
       "    </tr>\n",
       "  </tbody>\n",
       "</table>\n",
       "<p>150 rows × 5 columns</p>\n",
       "</div>"
      ],
      "text/plain": [
       "     sepal_length  sepal_width  petal_length  petal_width    species\n",
       "0             5.1          3.5           1.4          0.2     setosa\n",
       "1             4.9          3.0           1.4          0.2     setosa\n",
       "2             4.7          3.2           1.3          0.2     setosa\n",
       "3             4.6          3.1           1.5          0.2     setosa\n",
       "4             5.0          3.6           1.4          0.2     setosa\n",
       "..            ...          ...           ...          ...        ...\n",
       "145           6.7          3.0           5.2          2.3  virginica\n",
       "146           6.3          2.5           5.0          1.9  virginica\n",
       "147           6.5          3.0           5.2          2.0  virginica\n",
       "148           6.2          3.4           5.4          2.3  virginica\n",
       "149           5.9          3.0           5.1          1.8  virginica\n",
       "\n",
       "[150 rows x 5 columns]"
      ]
     },
     "execution_count": 2,
     "metadata": {},
     "output_type": "execute_result"
    }
   ],
   "source": [
    "# Load the Iris dataset\n",
    "iris = sns.load_dataset('iris')\n",
    "iris"
   ]
  },
  {
   "cell_type": "code",
   "execution_count": 3,
   "id": "2a1d561e-e6b0-48e2-90b8-e48a13e136e5",
   "metadata": {},
   "outputs": [
    {
     "data": {
      "text/html": [
       "<div>\n",
       "<style scoped>\n",
       "    .dataframe tbody tr th:only-of-type {\n",
       "        vertical-align: middle;\n",
       "    }\n",
       "\n",
       "    .dataframe tbody tr th {\n",
       "        vertical-align: top;\n",
       "    }\n",
       "\n",
       "    .dataframe thead th {\n",
       "        text-align: right;\n",
       "    }\n",
       "</style>\n",
       "<table border=\"1\" class=\"dataframe\">\n",
       "  <thead>\n",
       "    <tr style=\"text-align: right;\">\n",
       "      <th></th>\n",
       "      <th>sepal_length</th>\n",
       "      <th>sepal_width</th>\n",
       "      <th>petal_length</th>\n",
       "      <th>petal_width</th>\n",
       "    </tr>\n",
       "  </thead>\n",
       "  <tbody>\n",
       "    <tr>\n",
       "      <th>0</th>\n",
       "      <td>5.1</td>\n",
       "      <td>3.5</td>\n",
       "      <td>1.4</td>\n",
       "      <td>0.2</td>\n",
       "    </tr>\n",
       "    <tr>\n",
       "      <th>1</th>\n",
       "      <td>4.9</td>\n",
       "      <td>3.0</td>\n",
       "      <td>1.4</td>\n",
       "      <td>0.2</td>\n",
       "    </tr>\n",
       "    <tr>\n",
       "      <th>2</th>\n",
       "      <td>4.7</td>\n",
       "      <td>3.2</td>\n",
       "      <td>1.3</td>\n",
       "      <td>0.2</td>\n",
       "    </tr>\n",
       "    <tr>\n",
       "      <th>3</th>\n",
       "      <td>4.6</td>\n",
       "      <td>3.1</td>\n",
       "      <td>1.5</td>\n",
       "      <td>0.2</td>\n",
       "    </tr>\n",
       "    <tr>\n",
       "      <th>4</th>\n",
       "      <td>5.0</td>\n",
       "      <td>3.6</td>\n",
       "      <td>1.4</td>\n",
       "      <td>0.2</td>\n",
       "    </tr>\n",
       "    <tr>\n",
       "      <th>...</th>\n",
       "      <td>...</td>\n",
       "      <td>...</td>\n",
       "      <td>...</td>\n",
       "      <td>...</td>\n",
       "    </tr>\n",
       "    <tr>\n",
       "      <th>145</th>\n",
       "      <td>6.7</td>\n",
       "      <td>3.0</td>\n",
       "      <td>5.2</td>\n",
       "      <td>2.3</td>\n",
       "    </tr>\n",
       "    <tr>\n",
       "      <th>146</th>\n",
       "      <td>6.3</td>\n",
       "      <td>2.5</td>\n",
       "      <td>5.0</td>\n",
       "      <td>1.9</td>\n",
       "    </tr>\n",
       "    <tr>\n",
       "      <th>147</th>\n",
       "      <td>6.5</td>\n",
       "      <td>3.0</td>\n",
       "      <td>5.2</td>\n",
       "      <td>2.0</td>\n",
       "    </tr>\n",
       "    <tr>\n",
       "      <th>148</th>\n",
       "      <td>6.2</td>\n",
       "      <td>3.4</td>\n",
       "      <td>5.4</td>\n",
       "      <td>2.3</td>\n",
       "    </tr>\n",
       "    <tr>\n",
       "      <th>149</th>\n",
       "      <td>5.9</td>\n",
       "      <td>3.0</td>\n",
       "      <td>5.1</td>\n",
       "      <td>1.8</td>\n",
       "    </tr>\n",
       "  </tbody>\n",
       "</table>\n",
       "<p>150 rows × 4 columns</p>\n",
       "</div>"
      ],
      "text/plain": [
       "     sepal_length  sepal_width  petal_length  petal_width\n",
       "0             5.1          3.5           1.4          0.2\n",
       "1             4.9          3.0           1.4          0.2\n",
       "2             4.7          3.2           1.3          0.2\n",
       "3             4.6          3.1           1.5          0.2\n",
       "4             5.0          3.6           1.4          0.2\n",
       "..            ...          ...           ...          ...\n",
       "145           6.7          3.0           5.2          2.3\n",
       "146           6.3          2.5           5.0          1.9\n",
       "147           6.5          3.0           5.2          2.0\n",
       "148           6.2          3.4           5.4          2.3\n",
       "149           5.9          3.0           5.1          1.8\n",
       "\n",
       "[150 rows x 4 columns]"
      ]
     },
     "execution_count": 3,
     "metadata": {},
     "output_type": "execute_result"
    }
   ],
   "source": [
    "# Select features and drop the 'species' column\n",
    "X = iris.drop(columns=['species'])\n",
    "X"
   ]
  },
  {
   "cell_type": "code",
   "execution_count": 4,
   "id": "dbf8a727-b6cd-4db1-9531-315dedb6ed44",
   "metadata": {},
   "outputs": [
    {
     "data": {
      "text/html": [
       "<div>\n",
       "<style scoped>\n",
       "    .dataframe tbody tr th:only-of-type {\n",
       "        vertical-align: middle;\n",
       "    }\n",
       "\n",
       "    .dataframe tbody tr th {\n",
       "        vertical-align: top;\n",
       "    }\n",
       "\n",
       "    .dataframe thead th {\n",
       "        text-align: right;\n",
       "    }\n",
       "</style>\n",
       "<table border=\"1\" class=\"dataframe\">\n",
       "  <thead>\n",
       "    <tr style=\"text-align: right;\">\n",
       "      <th></th>\n",
       "      <th>species</th>\n",
       "    </tr>\n",
       "  </thead>\n",
       "  <tbody>\n",
       "    <tr>\n",
       "      <th>0</th>\n",
       "      <td>setosa</td>\n",
       "    </tr>\n",
       "    <tr>\n",
       "      <th>1</th>\n",
       "      <td>setosa</td>\n",
       "    </tr>\n",
       "    <tr>\n",
       "      <th>2</th>\n",
       "      <td>setosa</td>\n",
       "    </tr>\n",
       "    <tr>\n",
       "      <th>3</th>\n",
       "      <td>setosa</td>\n",
       "    </tr>\n",
       "    <tr>\n",
       "      <th>4</th>\n",
       "      <td>setosa</td>\n",
       "    </tr>\n",
       "    <tr>\n",
       "      <th>...</th>\n",
       "      <td>...</td>\n",
       "    </tr>\n",
       "    <tr>\n",
       "      <th>145</th>\n",
       "      <td>virginica</td>\n",
       "    </tr>\n",
       "    <tr>\n",
       "      <th>146</th>\n",
       "      <td>virginica</td>\n",
       "    </tr>\n",
       "    <tr>\n",
       "      <th>147</th>\n",
       "      <td>virginica</td>\n",
       "    </tr>\n",
       "    <tr>\n",
       "      <th>148</th>\n",
       "      <td>virginica</td>\n",
       "    </tr>\n",
       "    <tr>\n",
       "      <th>149</th>\n",
       "      <td>virginica</td>\n",
       "    </tr>\n",
       "  </tbody>\n",
       "</table>\n",
       "<p>150 rows × 1 columns</p>\n",
       "</div>"
      ],
      "text/plain": [
       "       species\n",
       "0       setosa\n",
       "1       setosa\n",
       "2       setosa\n",
       "3       setosa\n",
       "4       setosa\n",
       "..         ...\n",
       "145  virginica\n",
       "146  virginica\n",
       "147  virginica\n",
       "148  virginica\n",
       "149  virginica\n",
       "\n",
       "[150 rows x 1 columns]"
      ]
     },
     "execution_count": 4,
     "metadata": {},
     "output_type": "execute_result"
    }
   ],
   "source": [
    "# Select only the 'species' column for the target variable\n",
    "y = iris[['species']]\n",
    "y"
   ]
  },
  {
   "cell_type": "markdown",
   "id": "b02c1714-af3f-4d9c-98d1-b9a196aa6ed7",
   "metadata": {},
   "source": [
    "## LabelEncoder()\n",
    "### Reasons for Encoding the species Feature:\n",
    "\n",
    "We encoded the species feature to convert it from its original categorical (string) format into numeric values, which are required by machine learning models to perform computations. Without encoding, the model wouldn't be able to process the string labels.\n",
    "\n",
    "### Label Encoding:\n",
    "\n",
    "In this context, Label Encoding is used to convert the species feature into numeric values. For example:\n",
    "\n",
    "'setosa' → 0\n",
    "\n",
    "'versicolor' → 1\n",
    "\n",
    "'virginica' → 2\n",
    "\n",
    "This conversion allows the model to work with the target variable in numeric form."
   ]
  },
  {
   "cell_type": "code",
   "execution_count": 5,
   "id": "65b530c2-6b1e-43e1-ab67-41eb4a2cb2d3",
   "metadata": {},
   "outputs": [
    {
     "name": "stderr",
     "output_type": "stream",
     "text": [
      "C:\\Users\\bhosa\\anaconda3\\Lib\\site-packages\\sklearn\\preprocessing\\_label.py:114: DataConversionWarning: A column-vector y was passed when a 1d array was expected. Please change the shape of y to (n_samples, ), for example using ravel().\n",
      "  y = column_or_1d(y, warn=True)\n"
     ]
    }
   ],
   "source": [
    "from sklearn.preprocessing import StandardScaler, LabelEncoder\n",
    "# Encode the target variable\n",
    "label_encoder = LabelEncoder()\n",
    "y_encoded = label_encoder.fit_transform(y)"
   ]
  },
  {
   "cell_type": "code",
   "execution_count": 6,
   "id": "3343477e-27b8-4eb1-9403-3cbf37fa8092",
   "metadata": {},
   "outputs": [],
   "source": [
    "from sklearn.model_selection import train_test_split"
   ]
  },
  {
   "cell_type": "code",
   "execution_count": 7,
   "id": "5b1de441-0d2d-4788-8148-912b9997dd46",
   "metadata": {},
   "outputs": [
    {
     "name": "stdout",
     "output_type": "stream",
     "text": [
      "X_train shape: (120, 4)\n",
      "X_test shape: (30, 4)\n",
      "y_train shape: (120,)\n",
      "y_test shape: (30,)\n"
     ]
    }
   ],
   "source": [
    "# Split the data into training and testing sets\n",
    "# Split the data into training and testing sets\n",
    "X_train, X_test, y_train, y_test = train_test_split(X, y_encoded, test_size=0.2, random_state=42)\n",
    "\n",
    "\n",
    "# Display the shapes of the splits\n",
    "print(\"X_train shape:\", X_train.shape)\n",
    "print(\"X_test shape:\", X_test.shape)\n",
    "print(\"y_train shape:\", y_train.shape)\n",
    "print(\"y_test shape:\", y_test.shape)"
   ]
  },
  {
   "cell_type": "code",
   "execution_count": 8,
   "id": "acd4844d-7973-480c-bfa9-35f04f63f061",
   "metadata": {},
   "outputs": [],
   "source": [
    "from sklearn.preprocessing import StandardScaler"
   ]
  },
  {
   "cell_type": "code",
   "execution_count": 9,
   "id": "c0b33e73-5eb4-476b-b04f-af4dcac6c2e7",
   "metadata": {},
   "outputs": [
    {
     "name": "stdout",
     "output_type": "stream",
     "text": [
      "Scaled X_train:\n",
      " [[-1.47393679  1.20365799 -1.56253475 -1.31260282]\n",
      " [-0.13307079  2.99237573 -1.27600637 -1.04563275]\n",
      " [ 1.08589829  0.08570939  0.38585821  0.28921757]\n",
      " [-1.23014297  0.75647855 -1.2187007  -1.31260282]\n",
      " [-1.7177306   0.30929911 -1.39061772 -1.31260282]]\n",
      "Scaled X_test:\n",
      " [[ 0.35451684 -0.58505976  0.55777524  0.02224751]\n",
      " [-0.13307079  1.65083742 -1.16139502 -1.17911778]\n",
      " [ 2.30486738 -1.0322392   1.8185001   1.49058286]\n",
      " [ 0.23261993 -0.36147005  0.44316389  0.4227026 ]\n",
      " [ 1.2077952  -0.58505976  0.61508092  0.28921757]]\n"
     ]
    }
   ],
   "source": [
    "# Create a StandardScaler object\n",
    "scaler = StandardScaler()\n",
    "\n",
    "# Fit the scaler on the training data and transform it\n",
    "X_train_scaled = scaler.fit_transform(X_train)\n",
    "\n",
    "# Transform the testing data using the same scaler\n",
    "X_test_scaled = scaler.transform(X_test)\n",
    "\n",
    "# Display the scaled data\n",
    "print(\"Scaled X_train:\\n\", X_train_scaled[:5])  # Show first 5 rows\n",
    "print(\"Scaled X_test:\\n\", X_test_scaled[:5])    # Show first 5 rows"
   ]
  },
  {
   "cell_type": "markdown",
   "id": "315a807e-5ef5-412e-a9d6-3ca296d9ec3b",
   "metadata": {},
   "source": [
    "# Checking correlaation of input features within themselves"
   ]
  },
  {
   "cell_type": "code",
   "execution_count": 25,
   "id": "b500913e-3c68-4dfb-b68f-a591bd75af6b",
   "metadata": {},
   "outputs": [
    {
     "name": "stdout",
     "output_type": "stream",
     "text": [
      "              sepal_length  sepal_width  petal_length  petal_width\n",
      "sepal_length      1.000000    -0.117570      0.871754     0.817941\n",
      "sepal_width      -0.117570     1.000000     -0.428440    -0.366126\n",
      "petal_length      0.871754    -0.428440      1.000000     0.962865\n",
      "petal_width       0.817941    -0.366126      0.962865     1.000000\n"
     ]
    },
    {
     "data": {
      "image/png": "[encoded data removed]",
      "text/plain": [
       "<Figure size 1000x600 with 2 Axes>"
      ]
     },
     "metadata": {},
     "output_type": "display_data"
    }
   ],
   "source": [
    "# Calculate the correlation matrix directly on X\n",
    "## Checking the correlation of input features with each other\n",
    "\n",
    "correlation_matrix = X.corr()\n",
    "print(correlation_matrix)\n",
    "# Heatmap for input features correlation\n",
    "plt.figure(figsize=(10, 6))\n",
    "sns.heatmap(correlation_matrix, annot=True, cmap='coolwarm', fmt=\".2f\")\n",
    "plt.title('Correlation of Input Features')\n",
    "plt.show()"
   ]
  },
  {
   "cell_type": "markdown",
   "id": "dac33256-8564-4da5-ad5d-b017f34a49cd",
   "metadata": {},
   "source": [
    "## Outcomes of correlation of input features with each other :-\n",
    "\n",
    "### Strong Positive Correlations:\n",
    "\n",
    "#### Petal Length and Petal Width: \n",
    "The correlation coefficient is approximately 0.96, indicating a very strong positive relationship. This means that as the petal length increases, the petal width tends to increase as well.\n",
    "Petal Length and Sepal Length: The correlation coefficient is approximately 0.87, which is also a strong positive relationship. Longer petals are associated with longer sepals.\n",
    "\n",
    "#### Petal Width and Sepal Length: \n",
    "\n",
    "The correlation coefficient is approximately 0.82, suggesting a strong positive relationship as well.\n",
    "\n",
    "### Moderate to Weak Negative Correlations:\n",
    "\n",
    "#### Sepal Width and Petal Length: \n",
    "\n",
    "The correlation coefficient is approximately -0.43, indicating a moderate negative relationship. As the petal length increases, the sepal width tends to decrease, albeit not very strongly.\n",
    "#### Sepal Width and Petal Width: \n",
    "\n",
    "The correlation coefficient is approximately -0.37, which is also a weak to moderate negative relationship.\n",
    "\n",
    "### Weak Correlations:\n",
    "\n",
    "#### Sepal Length and Sepal Width: \n",
    "\n",
    "The correlation coefficient is approximately -0.12, indicating a very weak negative correlation. This suggests that there is little to no linear relationship between these two features.\n",
    "\n",
    "### Summary:\n",
    "\n",
    "The strongest relationships are between the petal features, which suggests that these measurements are closely related in the context of Iris flower classification.\n",
    "The weak correlations between sepal width and the other features indicate that sepal width may not be a good predictor for petal dimensions."
   ]
  },
  {
   "cell_type": "markdown",
   "id": "dfc1d105-c3ba-448f-8809-4e293df0028a",
   "metadata": {},
   "source": [
    "# Case 1: When Model is trained on dataset having all the input features "
   ]
  },
  {
   "cell_type": "code",
   "execution_count": 11,
   "id": "db41a77f-d516-42a9-8e2f-4ebe38f38f33",
   "metadata": {},
   "outputs": [
    {
     "name": "stdout",
     "output_type": "stream",
     "text": [
      "Mean Squared Error: 0.03711379440797691\n",
      "R² Score: 0.9468960016420044\n",
      "              Coefficient\n",
      "sepal_length    -0.095437\n",
      "sepal_width     -0.026736\n",
      "petal_length     0.444832\n",
      "petal_width      0.410230\n"
     ]
    }
   ],
   "source": [
    "\n",
    "# Create and train the Multiple Linear Regression model\n",
    "## Train the model with all the input features, \n",
    "model = LinearRegression()\n",
    "model.fit(X_train_scaled, y_train)\n",
    "\n",
    "# Make predictions on the test data\n",
    "y_pred = model.predict(X_test_scaled)\n",
    "\n",
    "# Evaluate the model\n",
    "mse = mean_squared_error(y_test, y_pred)\n",
    "r2 = r2_score(y_test, y_pred)\n",
    "\n",
    "print(\"Mean Squared Error:\", mse)\n",
    "print(\"R² Score:\", r2)\n",
    "\n",
    "# Display model coefficients\n",
    "coefficients = pd.DataFrame(model.coef_, X.columns, columns=['Coefficient'])\n",
    "print(coefficients)"
   ]
  },
  {
   "cell_type": "markdown",
   "id": "3bea78cf-6c83-48cf-a72a-6a1ab9f27c3d",
   "metadata": {},
   "source": [
    "# Checking Correlation of Input features with the output features "
   ]
  },
  {
   "cell_type": "code",
   "execution_count": 15,
   "id": "d28b823c-1631-4a1b-adc1-06fe42f79bd6",
   "metadata": {},
   "outputs": [
    {
     "name": "stdout",
     "output_type": "stream",
     "text": [
      "                 sepal_length  sepal_width  petal_length  petal_width  \\\n",
      "sepal_length         1.000000    -0.106926      0.862175     0.801480   \n",
      "sepal_width         -0.106926     1.000000     -0.432089    -0.369509   \n",
      "petal_length         0.862175    -0.432089      1.000000     0.962577   \n",
      "petal_width          0.801480    -0.369509      0.962577     1.000000   \n",
      "species_encoded      0.763847    -0.444109      0.947794     0.951276   \n",
      "\n",
      "                 species_encoded  \n",
      "sepal_length            0.763847  \n",
      "sepal_width            -0.444109  \n",
      "petal_length            0.947794  \n",
      "petal_width             0.951276  \n",
      "species_encoded         1.000000  \n"
     ]
    },
    {
     "data": {
      "image/png": "[encoded data removed]",
      "text/plain": [
       "<Figure size 1000x600 with 2 Axes>"
      ]
     },
     "metadata": {},
     "output_type": "display_data"
    }
   ],
   "source": [
    "# Combine the scaled input features (X_train_scaled) and the target variable (y_train)\n",
    "X_train_scaled_df = pd.DataFrame(X_train_scaled, columns=X.columns)  # Convert to DataFrame for correlation\n",
    "combined_data = X_train_scaled_df.copy()\n",
    "combined_data['species_encoded'] = y_train  # Add encoded species (target variable)\n",
    "\n",
    "# Calculate the correlation matrix for all input features and the target variable\n",
    "correlation_matrix = combined_data.corr()\n",
    "\n",
    "# Print the correlation matrix\n",
    "print(correlation_matrix)\n",
    "\n",
    "# Plot the heatmap for correlation of input features with the output feature (species_encoded)\n",
    "plt.figure(figsize=(10, 6))\n",
    "sns.heatmap(correlation_matrix, annot=True, cmap='coolwarm', fmt=\".2f\")\n",
    "plt.title('Correlation of Input Features with Output Feature (Encoded Species)')\n",
    "plt.show()"
   ]
  },
  {
   "cell_type": "markdown",
   "id": "c6d5f497-86bb-4796-a2a0-8be19502371f",
   "metadata": {},
   "source": [
    "# Case 2 : When Model is trained on dataset excluding the input features which weak Correlation with output feature"
   ]
  },
  {
   "cell_type": "code",
   "execution_count": 42,
   "id": "09ef0542-c8b9-4d32-bd0c-ba76eb501880",
   "metadata": {},
   "outputs": [
    {
     "name": "stdout",
     "output_type": "stream",
     "text": [
      "R² Score: 0.9477875302132268\n",
      "Mean Squared Error (MSE): 0.03649071499542256\n"
     ]
    }
   ],
   "source": [
    "#Check the Accuray when features having a weak correlation with the output features are not included while training the model\n",
    "## Train the model with all the input features which have only strong correlation with the out[ut feature\n",
    "from sklearn.linear_model import LinearRegression\n",
    "from sklearn.metrics import mean_squared_error, r2_score\n",
    "\n",
    "# Step 1: Drop Sepal Width, as it has a weaker and negative correlation with species\n",
    "X_train_selected = X_train.drop(columns=['sepal_width'])\n",
    "X_test_selected = X_test.drop(columns=['sepal_width'])\n",
    "\n",
    "# Step 2: Initialize and train the Multi Linear Regression model\n",
    "model = LinearRegression()\n",
    "\n",
    "# Fit the model on the selected features in the training set\n",
    "model.fit(X_train_selected, y_train)\n",
    "\n",
    "# Step 3: Make predictions on the test set\n",
    "y_pred = model.predict(X_test_selected)\n",
    "\n",
    "# Step 4: Calculate R² Score and Mean Squared Error (MSE)\n",
    "r2 = r2_score(y_test, y_pred)\n",
    "mse = mean_squared_error(y_test, y_pred)\n",
    "\n",
    "# Display the results\n",
    "print(\"R² Score:\", r2)\n",
    "print(\"Mean Squared Error (MSE):\", mse)\n"
   ]
  },
  {
   "cell_type": "markdown",
   "id": "893a11ed-7576-41d8-b0ed-adc483501aef",
   "metadata": {},
   "source": [
    "#### Based on the results for the R² score and Mean Squared Error (MSE), we can make the following observations:\n",
    "\n",
    "### Case 1: Dropping Features with Weaker and Negative Correlation (sepal_width dropped)\n",
    "R² Score: 0.9478\n",
    "MSE: 0.0365\n",
    "\n",
    "\n",
    "### Case 2: Using All Input Features (No Features Dropped)\n",
    "R² Score: 0.9469\n",
    "\n",
    "MSE: 0.0371\n",
    "\n",
    "### Conclusions:\n",
    "#### Model Performance:\n",
    "\n",
    "The R² score (which measures how well the input features explain the variance in the target variable) is slightly higher when dropping the sepal_width feature (0.9478 vs. 0.9469). This suggests that removing the weaker and negatively correlated feature (sepal_width) improved the model's ability to explain the variance in the target variable, albeit marginally.\n",
    "\n",
    "#### Prediction Error:\n",
    "The MSE (which measures the average squared difference between actual and predicted values) is slightly lower when sepal_width is dropped (0.0365 vs. 0.0371). This indicates that the model makes slightly better predictions (less error) without the weaker feature.\n",
    "Impact of Dropping Weaker Features:\n",
    "\n",
    "Dropping a feature with weaker and negative correlation (sepal_width) has a minimal but positive impact on the model's performance. The improvement in R² and reduction in MSE are small but suggest that removing features that don't contribute much to prediction can help make the model simpler and slightly more accurate.\n",
    "\n",
    "### Conclusion Summary:\n",
    "The model performs slightly better when the weaker and negatively correlated feature (sepal_width) is dropped. This shows that in some cases, removing less relevant features can lead to a small performance boost without losing predictive power. However, the difference is not very large, meaning both models perform quite similarly."
   ]
  }
 ],
 "metadata": {
  "kernelspec": {
   "display_name": "Python 3 (ipykernel)",
   "language": "python",
   "name": "python3"
  },
  "language_info": {
   "codemirror_mode": {
    "name": "ipython",
    "version": 3
   },
   "file_extension": ".py",
   "mimetype": "text/x-python",
   "name": "python",
   "nbconvert_exporter": "python",
   "pygments_lexer": "ipython3",
   "version": "3.12.4"
  }
 },
 "nbformat": 4,
 "nbformat_minor": 5
}

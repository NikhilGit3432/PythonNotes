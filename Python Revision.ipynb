{
 "cells": [
  {
   "cell_type": "code",
   "execution_count": 1,
   "id": "0eb92625-6599-4fba-8ae1-28f5714469c0",
   "metadata": {},
   "outputs": [
    {
     "name": "stdin",
     "output_type": "stream",
     "text": [
      "Enter na input here:  Nikhil\n"
     ]
    },
    {
     "name": "stdout",
     "output_type": "stream",
     "text": [
      "Nikhil\n"
     ]
    }
   ],
   "source": [
    "# Lecture6 User Inputs\n",
    "user_in=input(\"Enter na input here: \")\n",
    "print(user_in)"
   ]
  },
  {
   "cell_type": "markdown",
   "id": "99536930-8ac2-4b5e-8138-98fed568fe3a",
   "metadata": {},
   "source": [
    "# Lecture 7 Type conesion \n",
    "\"\"\" The literal meanings of \"implicit\" and \"explicit\" are as follows:\n",
    "\n",
    "Implicit\n",
    "Literal Meaning: Something that is implied or understood without being directly stated or expressed.\n",
    "Usage: When something is implicit, it is suggested or assumed but not openly shown or declared.\n",
    "Example: If someone says, \"It’s getting late,\" the implicit meaning might be that they want to leave, even though they didn’t say it directly.\n",
    "\n",
    "Explicit\n",
    "Literal Meaning: Something that is stated clearly and in detail, leaving no room for confusion or doubt.\n",
    "Usage: When something is explicit, it is fully expressed or communicated directly, so that there is no ambiguity.\n",
    "Example: If someone says, \"I want to leave now,\" this is an explicit statement of their desire to leave. \"\"\""
   ]
  },
  {
   "cell_type": "markdown",
   "id": "0b640272-68b9-4ac1-a5d8-e96cc1cf3933",
   "metadata": {},
   "source": [
    "# 6:47 Type Casting \n",
    "In summary, type casting exists in Python, but it is less prominent due to Python's dynamic nature and the availability of built-in functions for type conversion. Java, being statically typed, requires explicit casting, while CSS, being a styling language, doesn't involve type casting at all."
   ]
  },
  {
   "cell_type": "code",
   "execution_count": 22,
   "id": "7211b2df-12e0-4a21-bf70-682b2dc68494",
   "metadata": {},
   "outputs": [
    {
     "name": "stdout",
     "output_type": "stream",
     "text": [
      "6.5\n"
     ]
    }
   ],
   "source": [
    "#6.19 Explicit Type Conversion\n",
    "user_in = input('Enter a number: ')  # Takes input from the user as a string\n",
    "print(f\"The user_in before explicit type conversion: {type(user_in)}\")  # Shows the type of user_in before conversion\n",
    "\n",
    "Expl_tp_conv = int(user_in)  # Explicitly converts the string input to an integer\n",
    "print(f\"The user_in after explicit type conversion: {type(Expl_tp_conv)}\")  # Shows the type of user_in after conversion\n",
    "\n",
    "# Implicit Type Conversion\n",
    "a, b = 4.5, 2  # 'a' is a float and 'b' is an integer\n",
    "# Python will implicitly convert the integer 'b' to a float for the operation\n",
    "print(type(a))  # Outputs the type of 'a' which is <class 'float'>\n",
    "print(type(b))  # Outputs the type of 'b' which is <class 'int'>\n",
    "print(a + b)  # Adds 'a' and 'b', implicitly converting 'b' to a float, result is a float (6.5)\n"
   ]
  },
  {
   "cell_type": "markdown",
   "id": "be76aae4-ae4a-4010-be36-56967b52dbe0",
   "metadata": {},
   "source": [
    "# Lecture 8 Literals in Python \n",
    "Summary\n",
    "Literals in Python are a way to represent fixed values in code, including numbers, strings, Booleans, None, and collections like lists, tuples, dictionaries, and sets. They are fundamental in writing Python programs and can be used directly to assign values to variables or in expressions."
   ]
  },
  {
   "cell_type": "markdown",
   "id": "2687d887-e1bd-40a7-9afa-c006c122bf40",
   "metadata": {},
   "source": [
    "# Lecture 9 Operators in Python "
   ]
  },
  {
   "cell_type": "code",
   "execution_count": 24,
   "id": "026b42ac-a850-4194-abdd-2309eb71e76e",
   "metadata": {},
   "outputs": [
    {
     "name": "stdout",
     "output_type": "stream",
     "text": [
      "1 11\n",
      "1\n"
     ]
    }
   ],
   "source": [
    "# Bnary operation \n",
    "# Bit And Operatior &\n",
    "# Assign values to variables a and b\n",
    "a = 1  # a is assigned the value 1\n",
    "b = 3  # b is assigned the value 3\n",
    "\n",
    "# Convert the values of a and b to their binary representations and print them.\n",
    "# The bin() function converts an integer to a binary string.\n",
    "# The [2:] slice removes the '0b' prefix that indicates a binary number.\n",
    "print(bin(a)[2:], bin(b)[2:])  # Output: '1 11'\n",
    "# '1' is the binary representation of 1\n",
    "# '11' is the binary representation of 3\n",
    "\n",
    "# Perform a bitwise AND operation on a and b.\n",
    "# The & operator compares corresponding bits of a and b.\n",
    "# The result has a bit set to 1 only if both bits in the operands are 1.\n",
    "result = a & b  # Bitwise AND of 1 (01) and 3 (11) gives 1 (01)\n",
    "\n",
    "# Print the result of the bitwise AND operation.\n",
    "print(result)  # Output: 1\n",
    "# The result\n"
   ]
  },
  {
   "cell_type": "markdown",
   "id": "2bb458c5-7c99-4983-a76e-0bf622155cf9",
   "metadata": {},
   "source": [
    "## 5.16 Bitwise Operators \n",
    "### & (Bitwise AND)\n",
    "\n",
    "Syntax: a & b\n",
    "Description: Compares each bit of two integers and returns 1 for bits where both integers have 1, otherwise returns 0.\n",
    "### | (Bitwise OR)\n",
    "\n",
    "Syntax: a | b\n",
    "Description: Compares each bit of two integers and returns 1 for bits where at least one integer has 1, otherwise returns 0.\n",
    "^ (Bitwise XOR)\n",
    "\n",
    "Syntax: a ^ b\n",
    "Description: Compares each bit of two integers and returns 1 for bits where the corresponding bits of the integers are different, otherwise returns 0.\n",
    "### ~ (Bitwise NOT)\n",
    "\n",
    "Syntax: ~a\n",
    "Description: Inverts all the bits of the integer, flipping 0 to 1 and 1 to 0.\n",
    "### << (Bitwise Left Shift)\n",
    "\n",
    "Syntax: a << n\n",
    "Description: Shifts the bits of the integer a to the left by n positions, filling the vacant positions on the right with 0.\n",
    "### >> (Bitwise Right Shift)\n",
    "\n",
    "Syntax: a >> n\n",
    "Description: Shifts the bits of the integer a to the right by n positions. The vacant positions on the left are filled based on the sign bit."
   ]
  },
  {
   "cell_type": "code",
   "execution_count": 40,
   "id": "03728760-3935-4e25-9ebb-e6a2e37d1835",
   "metadata": {},
   "outputs": [
    {
     "name": "stdin",
     "output_type": "stream",
     "text": [
      "Enter the operator you need:  Rs\n"
     ]
    },
    {
     "name": "stdout",
     "output_type": "stream",
     "text": [
      "0 0\n"
     ]
    }
   ],
   "source": [
    "# practice code for Bitwise Operators \n",
    "\n",
    "a=2\n",
    "b=3\n",
    "input_opt=input(\"Enter the operator you need: \")\n",
    "if input_opt==\"And\":\n",
    "    print(a&b)\n",
    "elif input_opt == \"Or\":\n",
    "    print(a|b)\n",
    "elif input_opt == \"Not\":\n",
    "    print(~a,~b)\n",
    "elif input_opt ==\"XOr\":\n",
    "    print(a^b)\n",
    "elif input_opt== \"Ls\":\n",
    "    print(2<<a,2<<b)\n",
    "elif input_opt== \"Rs\":\n",
    "    print(a>>2,b>>2)\n",
    "else:\n",
    "    pass\n"
   ]
  },
  {
   "cell_type": "code",
   "execution_count": 52,
   "id": "3c4ff108-26b8-478b-9cdd-0a29f19f8c05",
   "metadata": {},
   "outputs": [
    {
     "name": "stdin",
     "output_type": "stream",
     "text": [
      "Enter the operator you need (and, or, not, xor, ls, rs):  ls\n"
     ]
    },
    {
     "name": "stdout",
     "output_type": "stream",
     "text": [
      "20 40\n"
     ]
    }
   ],
   "source": [
    "a = 2\n",
    "b = 3\n",
    "input_opt = input(\"Enter the operator you need (and, or, not, xor, ls, rs): \").strip().lower()\n",
    "\n",
    "if input_opt == \"and\":\n",
    "    print(a & b)\n",
    "elif input_opt == \"or\":\n",
    "    print(a | b)\n",
    "elif input_opt == \"not\":\n",
    "    print(~a, ~b)\n",
    "elif input_opt == \"xor\":\n",
    "    print(a ^ b)\n",
    "elif input_opt == \"ls\":\n",
    "    print(5 << a, 5 << b)\n",
    "elif input_opt == \"rs\":\n",
    "    print(a >> 5, b >> 5)\n",
    "else:\n",
    "    print(\"Invalid operator\")\n"
   ]
  },
  {
   "cell_type": "code",
   "execution_count": 64,
   "id": "3e7d48a4-7cd1-421e-8003-9f8e93fa61a7",
   "metadata": {},
   "outputs": [
    {
     "name": "stdout",
     "output_type": "stream",
     "text": [
      "44\n"
     ]
    }
   ],
   "source": [
    "# 1.\n",
    " # User will input (3ages).Find the oldest one\n",
    "Ages_List=[]\n",
    "def Ages(age1,age2,age3):\n",
    "    Ages=[age1,age2,age3]\n",
    "    for ages in Ages:\n",
    "        Ages_List.append(ages)\n",
    "    print(max(Ages_List))\n",
    "Ages(22,33,44)"
   ]
  },
  {
   "cell_type": "raw",
   "id": "cb05f170-510f-4940-a209-4b7feb6d7912",
   "metadata": {},
   "source": [
    "## 2 Write a program that will convert celsius value to fahrenheit\n"
   ]
  },
  {
   "cell_type": "markdown",
   "id": "0cda0904-159e-4407-b7ea-0cfa4001c148",
   "metadata": {},
   "source": [
    "## Lecture 10 If else Statements Nested If else \n"
   ]
  },
  {
   "cell_type": "markdown",
   "id": "64ffb20e-8501-48c9-9fdf-36d2f4f82913",
   "metadata": {},
   "source": [
    "## if-else statement\n",
    "### The if-else statement is used when you want to execute different blocks of code based on a condition. If the condition evaluates to True, the code inside the if block is executed. If the condition evaluates to False, the code inside the else block is executed.\n",
    "\n",
    "## while loop:\n",
    "###  The while loop is used when you want to repeat a block of code as long as a condition is True. The loop continues until the condition becomes False.\n",
    "## Dumpy lofin Platform :- \n",
    "### Create a dummy login system using Python. The system should ask the user for their username and password. If the username is \"admin\" and the password is \"password123\", print \"Login successful!\". If either the username or password is incorrect, print \"Login failed. Incorrect username or password.\"."
   ]
  },
  {
   "cell_type": "code",
   "execution_count": 4,
   "id": "a9a5788d-6ec3-4f36-8f07-e2640b53a36e",
   "metadata": {},
   "outputs": [
    {
     "name": "stdin",
     "output_type": "stream",
     "text": [
      "Enter the username:  jjnsjks\n",
      "Enter the Password:  ccsj\n"
     ]
    },
    {
     "name": "stdout",
     "output_type": "stream",
     "text": [
      "jjnsjks ccsj Wrong,Try again\n"
     ]
    },
    {
     "name": "stdin",
     "output_type": "stream",
     "text": [
      "Enter the username:  nsdjkcnscj\n",
      "Enter the Password:  ncjskd\n"
     ]
    },
    {
     "name": "stdout",
     "output_type": "stream",
     "text": [
      "nsdjkcnscj ncjskd Wrong,Try again\n"
     ]
    },
    {
     "name": "stdin",
     "output_type": "stream",
     "text": [
      "Enter the username:  admin\n",
      "Enter the Password:  password123\n"
     ]
    },
    {
     "name": "stdout",
     "output_type": "stream",
     "text": [
      "admin password123 Corrrect\n"
     ]
    }
   ],
   "source": [
    "# Code for if else statement \n",
    "Correct_username=\"admin\"\n",
    "password= \"password123\"\n",
    "\n",
    "while True:\n",
    "    Usr_name=input(\"Enter the username: \")\n",
    "    Pass=input(\"Enter the Password: \")\n",
    "\n",
    "    if Usr_name==Correct_username and password==Pass:\n",
    "        print(Usr_name,Pass,\" is Corrrect\")\n",
    "        break\n",
    "    else:\n",
    "        print(Usr_name,Pass,\" is Wrong,Try again\")\n",
    "    \n",
    "    \n",
    "    "
   ]
  },
  {
   "cell_type": "markdown",
   "id": "f59177ef-2585-401b-97ca-132d4d09095a",
   "metadata": {},
   "source": [
    "## Question:\n",
    "### Write a Python program for a dummy login system that allows the user to input their username and password. The user can attempt to login a maximum of 3 times. If the username is \"admin\" and the password is \"password123\", print \"Login successful!\" and exit. If the user enters incorrect credentials three times, print \"Login failed. Too many incorrect attempts.\""
   ]
  },
  {
   "cell_type": "code",
   "execution_count": 10,
   "id": "5454e260-2df6-4d03-9216-a87fef1bacfe",
   "metadata": {},
   "outputs": [
    {
     "name": "stdin",
     "output_type": "stream",
     "text": [
      "Enter the username:  ckcs\n",
      "Enter the Password:  cnackd\n"
     ]
    },
    {
     "name": "stdout",
     "output_type": "stream",
     "text": [
      "ckcs cnackd  is Wrong,Try again\n"
     ]
    },
    {
     "name": "stdin",
     "output_type": "stream",
     "text": [
      "Enter the username:  admin\n",
      "Enter the Password:  nnajkca\n"
     ]
    },
    {
     "name": "stdout",
     "output_type": "stream",
     "text": [
      "admin nnajkca  is Wrong,Try again\n"
     ]
    },
    {
     "name": "stdin",
     "output_type": "stream",
     "text": [
      "Enter the username:  aa\n",
      "Enter the Password:  cnajca\n"
     ]
    },
    {
     "name": "stdout",
     "output_type": "stream",
     "text": [
      "aa cnajca  is Wrong,Try again\n"
     ]
    },
    {
     "name": "stdin",
     "output_type": "stream",
     "text": [
      "Enter the username:  jjancjan\n",
      "Enter the Password:  cbcjhbcaj\n"
     ]
    },
    {
     "name": "stdout",
     "output_type": "stream",
     "text": [
      "4 too Many Attempts\n"
     ]
    }
   ],
   "source": [
    "# Code for if else statement \n",
    "Correct_username=\"admin\"\n",
    "password= \"pass\"\n",
    "count =0\n",
    "while True:\n",
    "    Usr_name=input(\"Enter the username: \")\n",
    "    Pass=input(\"Enter the Password: \")\n",
    "    count+=1\n",
    "\n",
    "    if Usr_name==Correct_username and password==Pass:\n",
    "        print(count,Usr_name,Pass,\" is Corrrect\")\n",
    "        break\n",
    "    elif count>3:\n",
    "        print(count,\"too Many Attempts\")\n",
    "        break\n",
    "    else:\n",
    "        print(Usr_name,Pass,\" is Wrong,Try again\")"
   ]
  },
  {
   "cell_type": "markdown",
   "id": "44f35e70-0ee1-4bc4-a323-42ad06c9c17e",
   "metadata": {},
   "source": [
    "# Lecture 17 Built in Functions \n",
    "\n",
    "## Here's a quick overview of some commonly used built-in functions in Python:\n",
    "\n",
    "print(): Outputs text or variables to the console.\n",
    "len(): Returns the number of items in an object (e.g., string, list).\n",
    "type(): Returns the type of an object.\n",
    "int(): Converts a value to an integer.\n",
    "float(): Converts a value to a floating-point number.\n",
    "str(): Converts a value to a string.\n",
    "list(): Creates a list from an iterable.\n",
    "dict(): Creates a dictionary.\n",
    "set(): Creates a set from an iterable.\n",
    "tuple(): Creates a tuple from an iterable.\n",
    "range(): Generates a sequence of numbers.\n",
    "sum(): Returns the sum of a sequence of numbers.\n",
    "max(): Returns the largest item from a sequence.\n",
    "min(): Returns the smallest item from a sequence.\n",
    "abs(): Returns the absolute value of a number.\n",
    "These functions are fundamental and built into Python, making them readily available for use in your programs."
   ]
  },
  {
   "cell_type": "code",
   "execution_count": 49,
   "id": "ee88314a-d1dd-4fba-8fed-1eab4aa347ec",
   "metadata": {},
   "outputs": [
    {
     "name": "stdout",
     "output_type": "stream",
     "text": [
      "abs\n",
      "aiter\n",
      "all\n",
      "anext\n",
      "any\n",
      "ascii\n",
      "bin\n",
      "bool\n",
      "breakpoint\n",
      "bytearray\n",
      "bytes\n",
      "callable\n",
      "chr\n",
      "classmethod\n",
      "compile\n",
      "complex\n",
      "copyright\n",
      "credits\n",
      "delattr\n",
      "dict\n",
      "dir\n",
      "display\n",
      "divmod\n",
      "enumerate\n",
      "eval\n",
      "exec\n",
      "execfile\n",
      "filter\n",
      "float\n",
      "format\n",
      "frozenset\n",
      "get_ipython\n",
      "getattr\n",
      "globals\n",
      "hasattr\n",
      "hash\n",
      "help\n",
      "hex\n",
      "id\n",
      "input\n",
      "int\n",
      "isinstance\n",
      "issubclass\n",
      "iter\n",
      "len\n",
      "license\n",
      "list\n",
      "locals\n",
      "map\n",
      "max\n",
      "memoryview\n",
      "min\n",
      "next\n",
      "object\n",
      "oct\n",
      "open\n",
      "ord\n",
      "pow\n",
      "print\n",
      "property\n",
      "range\n",
      "repr\n",
      "reversed\n",
      "round\n",
      "runfile\n",
      "set\n",
      "setattr\n",
      "slice\n",
      "sorted\n",
      "staticmethod\n",
      "str\n",
      "sum\n",
      "super\n",
      "tuple\n",
      "type\n",
      "vars\n",
      "zip\n"
     ]
    }
   ],
   "source": [
    "# 10.46 Need to learn only these 15 Built in functions in Python \n",
    "\n",
    "import builtins\n",
    "\n",
    "# Get a list of all built-in attributes and functions\n",
    "List = dir(builtins)\n",
    "\n",
    "# Iterate over the list of built-in attributes\n",
    "for x in List:\n",
    "    # Filter out special attributes (those starting with '__') and capitalized attributes\n",
    "    if x.startswith(\"__\") or x[0].isupper():\n",
    "        pass\n",
    "    else:\n",
    "        # Print the names of built-in functions\n",
    "        print(x)\n"
   ]
  },
  {
   "cell_type": "markdown",
   "id": "a071eba1-9096-40ec-aa74-2a7f88b47050",
   "metadata": {},
   "source": [
    "## lecture 19 Strings in python "
   ]
  },
  {
   "cell_type": "code",
   "execution_count": 102,
   "id": "27219b03-8016-4dbb-ae00-fb3f87ee822f",
   "metadata": {},
   "outputs": [
    {
     "name": "stdout",
     "output_type": "stream",
     "text": [
      "11\n"
     ]
    }
   ],
   "source": [
    "# Define a string variable with the value \"Hello World\"\n",
    "string = \"Hello World\"\n",
    "\n",
    "# Use the built-in len() function to get the length of the string and print it\n",
    "print(len(string))  # Output: 11 (length of \"Hello World\" including the space)\n"
   ]
  },
  {
   "cell_type": "code",
   "execution_count": 94,
   "id": "ce05e548-b10c-4b7b-97a3-ce2263a70c5d",
   "metadata": {},
   "outputs": [
    {
     "name": "stdout",
     "output_type": "stream",
     "text": [
      "0 H\n",
      "1 e\n",
      "2 l\n",
      "3 l\n",
      "4 o\n",
      "5  \n",
      "6 W\n",
      "7 o\n",
      "8 r\n",
      "9 l\n",
      "10 d\n"
     ]
    }
   ],
   "source": [
    "# Define a string variable with the value \"Hello World\"\n",
    "string = \"Hello World\"\n",
    "\n",
    "# Use the enumerate function to get both the index and character of the string\n",
    "for i, x in enumerate(string):\n",
    "    # Print the index (i) and the corresponding character (x)\n",
    "    print(i, x)\n"
   ]
  },
  {
   "cell_type": "code",
   "execution_count": 104,
   "id": "64d82aee-90a8-43aa-8bd9-bcb3b46b7a4a",
   "metadata": {},
   "outputs": [
    {
     "name": "stdout",
     "output_type": "stream",
     "text": [
      "l\n"
     ]
    }
   ],
   "source": [
    "# Define a string variable with the value \"Hello Worlds\"\n",
    "string = \"Hello Worlds\"\n",
    "\n",
    "# Access and print the character at index 2 (third character) of the string\n",
    "print(string[2])  # Output: 'l'\n"
   ]
  },
  {
   "cell_type": "code",
   "execution_count": 106,
   "id": "304c65e0-dfd9-45af-875a-7ca1c7a7bbb3",
   "metadata": {},
   "outputs": [
    {
     "name": "stdout",
     "output_type": "stream",
     "text": [
      "llo \n"
     ]
    }
   ],
   "source": [
    "# Define a string variable with the value \"Hello Worlds\"\n",
    "string = \"Hello Worlds\"\n",
    "\n",
    "# Perform slicing from index 2 to index 6 with a step of 1\n",
    "print(string[2:6:1])  # Output: 'llo'\n"
   ]
  },
  {
   "cell_type": "code",
   "execution_count": 108,
   "id": "8d65e008-a0be-499f-af14-b5d72b097f4b",
   "metadata": {},
   "outputs": [
    {
     "name": "stdout",
     "output_type": "stream",
     "text": [
      "slo l\n"
     ]
    }
   ],
   "source": [
    "# Define a string variable with the value \"Hello Worlds\"\n",
    "string = \"Hello Worlds\"\n",
    "\n",
    "# Perform negative slicing from index -1 to index -10 with a step of -2\n",
    "print(string[-1:-10:-2])  # Output: 'srd'"
   ]
  },
  {
   "cell_type": "markdown",
   "id": "52398e6a-0c73-4eeb-add0-5e6e6ea11815",
   "metadata": {},
   "source": [
    "## Lecture 22 Opratons in Strings "
   ]
  },
  {
   "cell_type": "markdown",
   "id": "08160ae2-5073-4fe9-a439-fbedd598b6ef",
   "metadata": {},
   "source": [
    "###  arithmetic operations like addition (+) and multiplication (*) can be applied to strings. However, not all arithmetic operations work with strings, so only concatenation and repetition are supported. "
   ]
  },
  {
   "cell_type": "code",
   "execution_count": 115,
   "id": "55a86697-5977-4083-9c9b-a87672f5072d",
   "metadata": {},
   "outputs": [
    {
     "name": "stdout",
     "output_type": "stream",
     "text": [
      "Hello World\n",
      "HelloHelloHello\n"
     ]
    }
   ],
   "source": [
    "## Arithmetic Operators in Strings \n",
    "str1 = \"Hello\"\n",
    "str2 = \"World\"\n",
    "result = str1 + \" \" + str2\n",
    "print(result)  # Output: \"Hello World\"\n",
    "\n",
    "str1 = \"Hello\"\n",
    "result = str1 * 3\n",
    "print(result)  # Output: \"HelloHelloHello\"\n"
   ]
  },
  {
   "cell_type": "markdown",
   "id": "24e88791-9bca-4c48-9476-95d024d0177d",
   "metadata": {},
   "source": [
    "### Relational or comparison operators in Python can be used to compare strings. These operators compare strings lexicographically (i.e., based on the Unicode values of their characters)."
   ]
  },
  {
   "cell_type": "code",
   "execution_count": 121,
   "id": "198eba91-c5a1-4080-845f-fc75601113dd",
   "metadata": {},
   "outputs": [
    {
     "name": "stdout",
     "output_type": "stream",
     "text": [
      "True\n",
      "True\n",
      "True\n",
      "True\n",
      "True\n",
      "True\n"
     ]
    }
   ],
   "source": [
    "# Equality (==)\n",
    "str1 = \"apple\"\n",
    "str2 = \"apple\"\n",
    "result = str1 == str2\n",
    "print(result)  # Output: True\n",
    "# Inequality (!=)\n",
    "str1 = \"apple\"\n",
    "str2 = \"banana\"\n",
    "result = str1 != str2\n",
    "print(result)  # Output: True\n",
    "\n",
    "#Less Than (<)\n",
    "str1 = \"apple\"\n",
    "str2 = \"banana\"\n",
    "result = str1 < str2\n",
    "print(result)  # Output: True\n",
    "\n",
    "# Greater Than (>)\n",
    "str1 = \"banana\"\n",
    "str2 = \"apple\"\n",
    "result = str1 > str2\n",
    "print(result)  # Output: True\n",
    "\n",
    "# Less Than or Equal To (<=)\n",
    "str1 = \"apple\"\n",
    "str2 = \"banana\"\n",
    "result = str1 <= str2\n",
    "print(result)  # Output: True\n",
    "\n",
    "# Greater Than or Equal To (>=)\n",
    "str1 = \"banana\"\n",
    "str2 = \"apple\"\n",
    "result = str1 >= str2\n",
    "print(result)  # Output: True\n"
   ]
  },
  {
   "cell_type": "markdown",
   "id": "b77da5d3-4231-4182-b7fd-fd176a5a2a09",
   "metadata": {},
   "source": [
    "## lectue 23 String Functions "
   ]
  },
  {
   "cell_type": "code",
   "execution_count": 123,
   "id": "72c3e90c-1395-436d-bcc1-bdb4679b55c5",
   "metadata": {},
   "outputs": [
    {
     "data": {
      "text/plain": [
       "['__add__',\n",
       " '__class__',\n",
       " '__contains__',\n",
       " '__delattr__',\n",
       " '__dir__',\n",
       " '__doc__',\n",
       " '__eq__',\n",
       " '__format__',\n",
       " '__ge__',\n",
       " '__getattribute__',\n",
       " '__getitem__',\n",
       " '__getnewargs__',\n",
       " '__getstate__',\n",
       " '__gt__',\n",
       " '__hash__',\n",
       " '__init__',\n",
       " '__init_subclass__',\n",
       " '__iter__',\n",
       " '__le__',\n",
       " '__len__',\n",
       " '__lt__',\n",
       " '__mod__',\n",
       " '__mul__',\n",
       " '__ne__',\n",
       " '__new__',\n",
       " '__reduce__',\n",
       " '__reduce_ex__',\n",
       " '__repr__',\n",
       " '__rmod__',\n",
       " '__rmul__',\n",
       " '__setattr__',\n",
       " '__sizeof__',\n",
       " '__str__',\n",
       " '__subclasshook__',\n",
       " 'capitalize',\n",
       " 'casefold',\n",
       " 'center',\n",
       " 'count',\n",
       " 'encode',\n",
       " 'endswith',\n",
       " 'expandtabs',\n",
       " 'find',\n",
       " 'format',\n",
       " 'format_map',\n",
       " 'index',\n",
       " 'isalnum',\n",
       " 'isalpha',\n",
       " 'isascii',\n",
       " 'isdecimal',\n",
       " 'isdigit',\n",
       " 'isidentifier',\n",
       " 'islower',\n",
       " 'isnumeric',\n",
       " 'isprintable',\n",
       " 'isspace',\n",
       " 'istitle',\n",
       " 'isupper',\n",
       " 'join',\n",
       " 'ljust',\n",
       " 'lower',\n",
       " 'lstrip',\n",
       " 'maketrans',\n",
       " 'partition',\n",
       " 'removeprefix',\n",
       " 'removesuffix',\n",
       " 'replace',\n",
       " 'rfind',\n",
       " 'rindex',\n",
       " 'rjust',\n",
       " 'rpartition',\n",
       " 'rsplit',\n",
       " 'rstrip',\n",
       " 'split',\n",
       " 'splitlines',\n",
       " 'startswith',\n",
       " 'strip',\n",
       " 'swapcase',\n",
       " 'title',\n",
       " 'translate',\n",
       " 'upper',\n",
       " 'zfill']"
      ]
     },
     "execution_count": 123,
     "metadata": {},
     "output_type": "execute_result"
    }
   ],
   "source": [
    "\n",
    "dir(str)"
   ]
  },
  {
   "cell_type": "code",
   "execution_count": 127,
   "id": "e32e0668-adc3-4ce6-a1f9-ac333bf7bffa",
   "metadata": {},
   "outputs": [
    {
     "name": "stdout",
     "output_type": "stream",
     "text": [
      "capitalize\n",
      "casefold\n",
      "center\n",
      "count\n",
      "encode\n",
      "endswith\n",
      "expandtabs\n",
      "find\n",
      "format\n",
      "format_map\n",
      "index\n",
      "isalnum\n",
      "isalpha\n",
      "isascii\n",
      "isdecimal\n",
      "isdigit\n",
      "isidentifier\n",
      "islower\n",
      "isnumeric\n",
      "isprintable\n",
      "isspace\n",
      "istitle\n",
      "isupper\n",
      "join\n",
      "ljust\n",
      "lower\n",
      "lstrip\n",
      "maketrans\n",
      "partition\n",
      "removeprefix\n",
      "removesuffix\n",
      "replace\n",
      "rfind\n",
      "rindex\n",
      "rjust\n",
      "rpartition\n",
      "rsplit\n",
      "rstrip\n",
      "split\n",
      "splitlines\n",
      "startswith\n",
      "strip\n",
      "swapcase\n",
      "title\n",
      "translate\n",
      "upper\n",
      "zfill\n"
     ]
    }
   ],
   "source": [
    "# Write a code to return all the String attributes (methods only ) \n",
    "# Get a list of all string attributes and functions\n",
    "List = dir(str)\n",
    "\n",
    "# Iterate over the list of built-in attributes\n",
    "for x in List:\n",
    "    # Filter out special attributes (those starting with '__') and capitalized attributes\n",
    "    if x.startswith(\"__\") or x[0].isupper():\n",
    "        pass\n",
    "    else:\n",
    "        # Print the names of built-in functions\n",
    "        print(x)\n"
   ]
  },
  {
   "cell_type": "code",
   "execution_count": 137,
   "id": "d13d75f2-a742-43ee-bd2c-c758aae72a5e",
   "metadata": {},
   "outputs": [],
   "source": [
    "# Ther are 4 main built in Functions for any data type in Python\n",
    "import builtins\n",
    "BuiltinFunc=dir(builtins)\n"
   ]
  },
  {
   "cell_type": "code",
   "execution_count": 151,
   "id": "94a9d870-aa20-475d-adaa-ba2d2453f4fa",
   "metadata": {},
   "outputs": [
    {
     "name": "stdout",
     "output_type": "stream",
     "text": [
      "abs\n",
      "aiter\n",
      "all\n",
      "anext\n",
      "any\n",
      "ascii\n",
      "bin\n",
      "bool\n",
      "breakpoint\n",
      "bytearray\n",
      "bytes\n",
      "callable\n",
      "chr\n",
      "classmethod\n",
      "compile\n",
      "complex\n",
      "copyright\n",
      "credits\n",
      "delattr\n",
      "dict\n",
      "dir\n",
      "display\n",
      "divmod\n",
      "enumerate\n",
      "eval\n",
      "exec\n",
      "execfile\n",
      "filter\n",
      "float\n",
      "format\n",
      "frozenset\n",
      "get_ipython\n",
      "getattr\n",
      "globals\n",
      "hasattr\n",
      "hash\n",
      "help\n",
      "hex\n",
      "id\n",
      "input\n",
      "int\n",
      "isinstance\n",
      "issubclass\n",
      "iter\n",
      "len\n",
      "license\n",
      "list\n",
      "locals\n",
      "map\n",
      "max\n",
      "memoryview\n",
      "min\n",
      "next\n",
      "object\n",
      "oct\n",
      "open\n",
      "ord\n",
      "pow\n",
      "print\n",
      "property\n",
      "range\n",
      "repr\n",
      "reversed\n",
      "round\n",
      "runfile\n",
      "set\n",
      "setattr\n",
      "slice\n",
      "sorted\n",
      "staticmethod\n",
      "str\n",
      "sum\n",
      "super\n",
      "tuple\n",
      "type\n",
      "vars\n",
      "zip\n"
     ]
    }
   ],
   "source": [
    "# we need to Learn about only funtion for all te data type in Built in Module of Python\n",
    "#len\n",
    "#max\n",
    "#min\n",
    "#sorted\n",
    "# These four built in functions are regularly used\n",
    "for func in BuiltinFunc:\n",
    "    if func.startswith(\"__\") or func[0].isupper():\n",
    "        pass\n",
    "    else:\n",
    "        print(func)\n",
    "        "
   ]
  },
  {
   "cell_type": "code",
   "execution_count": 155,
   "id": "da1bc98b-2671-4e48-b25d-267087714c03",
   "metadata": {},
   "outputs": [
    {
     "name": "stdout",
     "output_type": "stream",
     "text": [
      "capitalize\n",
      "casefold\n",
      "center\n",
      "count\n",
      "encode\n",
      "endswith\n",
      "expandtabs\n",
      "find\n",
      "format\n",
      "format_map\n",
      "index\n",
      "isalnum\n",
      "isalpha\n",
      "isascii\n",
      "isdecimal\n",
      "isdigit\n",
      "isidentifier\n",
      "islower\n",
      "isnumeric\n",
      "isprintable\n",
      "isspace\n",
      "istitle\n",
      "isupper\n",
      "join\n",
      "ljust\n",
      "lower\n",
      "lstrip\n",
      "maketrans\n",
      "partition\n",
      "removeprefix\n",
      "removesuffix\n",
      "replace\n",
      "rfind\n",
      "rindex\n",
      "rjust\n",
      "rpartition\n",
      "rsplit\n",
      "rstrip\n",
      "split\n",
      "splitlines\n",
      "startswith\n",
      "strip\n",
      "swapcase\n",
      "title\n",
      "translate\n",
      "upper\n",
      "zfill\n"
     ]
    }
   ],
   "source": [
    "# Nect we need all learn the string fnctions \n",
    "# We donot need to learn the functions separately , we can just return the list of string functons with dir(str)\n",
    "for func in dir(str):\n",
    "    if func.startswith(\"__\") or func[0].isupper():\n",
    "        pass\n",
    "    else:\n",
    "        print(func)"
   ]
  },
  {
   "cell_type": "markdown",
   "id": "47ba1436-588a-4320-8ca1-0e96be79e8bc",
   "metadata": {},
   "source": [
    "## Lecture 24 List"
   ]
  },
  {
   "cell_type": "code",
   "execution_count": 163,
   "id": "e7fb6303-4ec1-49bb-bca0-ecc20a8e68f9",
   "metadata": {},
   "outputs": [
    {
     "name": "stdout",
     "output_type": "stream",
     "text": [
      "append\n",
      "clear\n",
      "copy\n",
      "count\n",
      "extend\n",
      "index\n",
      "insert\n",
      "pop\n",
      "remove\n",
      "reverse\n",
      "sort\n"
     ]
    }
   ],
   "source": [
    "dir(list) # retruns the functions for the List \n",
    "for func in dir(list):\n",
    "    if func.startswith(\"__\") or func[0].isupper():\n",
    "        pass\n",
    "    else:\n",
    "        print(func)"
   ]
  },
  {
   "cell_type": "code",
   "execution_count": 194,
   "id": "d154e812-fb3e-418f-be6c-61b234475f4a",
   "metadata": {},
   "outputs": [
    {
     "name": "stdout",
     "output_type": "stream",
     "text": [
      "<class 'list'>\n"
     ]
    }
   ],
   "source": [
    "List=[1,2,3,4,5,6]\n",
    "print(type(List))"
   ]
  },
  {
   "cell_type": "markdown",
   "id": "7ed885e7-a947-47bf-822b-d6897f83f442",
   "metadata": {},
   "source": [
    "## Why Lists Are Mutable Objects in Python\n",
    "### These methods demonstrate that lists are mutable because they provide direct ways to alter the content and structure of the list object after it is created. The ability to change the list in place, as opposed to creating new lists for each modification, underscores the inherent mutability of list objects in Python."
   ]
  },
  {
   "cell_type": "markdown",
   "id": "9f062344-7c76-47e2-9fe0-90e42b738745",
   "metadata": {},
   "source": [
    "## Lecture 25 Tuple "
   ]
  },
  {
   "cell_type": "code",
   "execution_count": 168,
   "id": "727bc6a5-5c98-4db3-bb85-647db5376a40",
   "metadata": {},
   "outputs": [
    {
     "name": "stdout",
     "output_type": "stream",
     "text": [
      "count\n",
      "index\n"
     ]
    }
   ],
   "source": [
    "dir(tuple) # retruns the functions for the List \n",
    "for func in dir(tuple):\n",
    "    if func.startswith(\"__\") or func[0].isupper():\n",
    "        pass\n",
    "    else:\n",
    "        print(func)\n"
   ]
  },
  {
   "cell_type": "code",
   "execution_count": 214,
   "id": "ea69e0f3-b137-4f66-8d63-bd901accd9ea",
   "metadata": {},
   "outputs": [
    {
     "name": "stdout",
     "output_type": "stream",
     "text": [
      "<class 'tuple'>\n",
      "(1, 2, 3, 4, 5, 6, 7, 7)\n",
      "<class 'tuple'>\n"
     ]
    }
   ],
   "source": [
    "Tuples=(1,2,3,4,5)\n",
    "print(type(Tuples))\n",
    "# Converting List to tuple \n",
    "List=(1,2,3,4,5,6,7,7)\n",
    "Tuple1=tuple(List)\n",
    "print(Tuple1)\n",
    "print(type(Tuple1))\n"
   ]
  },
  {
   "cell_type": "markdown",
   "id": "b9d90ba4-1c1c-4d86-8cc9-b5dc653cc011",
   "metadata": {},
   "source": [
    "## Why Tuples Are Immutable Objects in Python\n",
    "### The absence of methods that modify the content or structure of the tuple highlights its immutability. Tuples are designed to be immutable, meaning that once a tuple is created, its elements cannot be changed, added, or removed. This is why tuples do not have methods that would alter their content, reinforcing their status as immutable objects in Python."
   ]
  },
  {
   "cell_type": "markdown",
   "id": "d69ef0eb-dbc0-4ffe-b73f-4fea26e01c83",
   "metadata": {},
   "source": [
    "## Lecture 27 python Sets"
   ]
  },
  {
   "cell_type": "code",
   "execution_count": 180,
   "id": "ec283b12-ddc2-4a34-af2f-099dd7d636ca",
   "metadata": {},
   "outputs": [
    {
     "name": "stdout",
     "output_type": "stream",
     "text": [
      "add\n",
      "clear\n",
      "copy\n",
      "difference\n",
      "difference_update\n",
      "discard\n",
      "intersection\n",
      "intersection_update\n",
      "isdisjoint\n",
      "issubset\n",
      "issuperset\n",
      "pop\n",
      "remove\n",
      "symmetric_difference\n",
      "symmetric_difference_update\n",
      "union\n",
      "update\n"
     ]
    }
   ],
   "source": [
    "dir(set) # retruns the functions for the List \n",
    "for func in dir(set):\n",
    "    if func.startswith(\"__\") or func[0].isupper():\n",
    "        pass\n",
    "    else:\n",
    "        print(func)"
   ]
  },
  {
   "cell_type": "code",
   "execution_count": 216,
   "id": "073ba7f4-fa72-4d40-b971-2a8a728401b6",
   "metadata": {},
   "outputs": [
    {
     "name": "stdout",
     "output_type": "stream",
     "text": [
      "<class 'set'>\n",
      "{1, 2, 3, 4, 5, 6, 7, 8, 9}\n",
      "<class 'set'>\n"
     ]
    }
   ],
   "source": [
    "Sets={1,2,3,4,5}\n",
    "print(type(Sets))\n",
    "# Converting the List into sets \n",
    "List1=[1,2,3,4,4,5,6,7,7,8,9,9,8]\n",
    "Sets1=set(List1)\n",
    "print(Sets1)\n",
    "print(type(Sets1))"
   ]
  },
  {
   "cell_type": "markdown",
   "id": "94517706-9268-4bef-b197-bc256e7860fc",
   "metadata": {},
   "source": [
    "## Why Sets Are Mutable Objects in Python\n",
    "### The availability of these methods demonstrates that sets are mutable because they provide various ways to modify their elements and structure. Unlike immutable objects, sets allow changes to be made in place, reflecting their mutable nature."
   ]
  },
  {
   "cell_type": "markdown",
   "id": "9c317e03-9cb7-48cc-b4b5-1933ecadfd13",
   "metadata": {},
   "source": [
    "## Why Sets Do Not Allow Duplicates or Indexing/Slicing\n",
    "### sets in Python are designed to handle collections of unique, unordered elements efficiently. Their lack of support for duplicates and sequence-based operations like indexing and slicing is a direct result of their underlying data structure and intended use cases. Sets are optimized for membership testing, set operations, and ensuring element uniqueness rather than ordered access or element position."
   ]
  },
  {
   "cell_type": "markdown",
   "id": "ed63b6da-98e8-481c-9fed-fa77a7216448",
   "metadata": {},
   "source": [
    "## Lectue 28 Dictionary "
   ]
  },
  {
   "cell_type": "code",
   "execution_count": 188,
   "id": "b587ca09-953d-49ea-9bf8-08a7a095b768",
   "metadata": {},
   "outputs": [
    {
     "name": "stdout",
     "output_type": "stream",
     "text": [
      "clear\n",
      "copy\n",
      "fromkeys\n",
      "get\n",
      "items\n",
      "keys\n",
      "pop\n",
      "popitem\n",
      "setdefault\n",
      "update\n",
      "values\n"
     ]
    }
   ],
   "source": [
    "dir(dict) # retruns the functions for the List \n",
    "for func in dir(dict):\n",
    "    if func.startswith(\"__\") or func[0].isupper():\n",
    "        pass\n",
    "    else:\n",
    "        print(func)"
   ]
  },
  {
   "cell_type": "markdown",
   "id": "8b9322a8-475d-423f-af6d-651c90335b07",
   "metadata": {},
   "source": [
    "### Mutable: Dictionaries are mutable because they provide methods to add, remove, update, and clear elements.\n",
    "### No Indexing: Indexing is not supported because dictionaries are unordered collections and are based on key-value pairs rather than positional indices.\n",
    "### Unique Keys: Keys must be unique due to the hash-based implementation and the need to ensure a single, consistent mapping of keys to values."
   ]
  },
  {
   "cell_type": "code",
   "execution_count": 232,
   "id": "57ff85ef-2ce2-47c3-92e5-faff42ce9309",
   "metadata": {},
   "outputs": [
    {
     "name": "stdout",
     "output_type": "stream",
     "text": [
      "{'Math': 90, 'English': 85, 'Science': 88}\n",
      "90\n",
      "['Alice', 'Bob', 'Charlie']\n",
      "{'Alice': 90, 'Bob': 78, 'Charlie': 92}\n",
      "{'Alice': 88, 'Charlie': 95}\n"
     ]
    }
   ],
   "source": [
    "## Assignment on Understanding the Slicing in 2D Dictionary\n",
    "\n",
    "# Creating a two-dimensional dictionary for students\n",
    "students = {\n",
    "    \"Alice\": {\n",
    "        \"Math\": 90,\n",
    "        \"English\": 85,\n",
    "        \"Science\": 88\n",
    "    },\n",
    "    \"Bob\": {\n",
    "        \"Math\": 78,\n",
    "        \"English\": 82,\n",
    "        \"Science\": 80\n",
    "    },\n",
    "    \"Charlie\": {\n",
    "        \"Math\": 92,\n",
    "        \"English\": 89,\n",
    "        \"Science\": 95\n",
    "    }\n",
    "}\n",
    "#1. Accessing Grades for a Specific Student\n",
    "alice_grades = students[\"Alice\"]\n",
    "print(alice_grades)\n",
    "\n",
    "# 2. Accessing a Specific Grade for a Specific Student\n",
    "# To get Alice's grade in Math:\n",
    "alice_math_grade = students[\"Alice\"][\"Math\"]\n",
    "print(alice_math_grade)\n",
    "                             \n",
    "# 3. Getting All Students' Names\n",
    "# To list all student names:\n",
    "student_names = list(students.keys())\n",
    "print(student_names)\n",
    "\n",
    "# 4. Getting All Grades for a Specific Subject\n",
    "# To get grades for all students in Math:\n",
    "math_grades = {student: details[\"Math\"] for student, details in students.items()}\n",
    "print(math_grades)\n",
    "\n",
    "# 5. Filtering Students Based on a Grade Criterion\n",
    "# To get students who scored more than 85 in Science:\n",
    "high_scorers_in_science = {student: details[\"Science\"] for student, details in students.items() if details[\"Science\"] > 85}\n",
    "print(high_scorers_in_science)\n"
   ]
  },
  {
   "cell_type": "markdown",
   "id": "532449fc-0efc-44ab-9b4d-6581d141201c",
   "metadata": {},
   "source": [
    "### Creating the Dictionary: You define a two-dimensional dictionary where each student’s name maps to another dictionary containing subject grades.\n",
    "### Accessing Data: You can access specific data by using nested keys.\n",
    "### Slicing-like Operations: You can use dictionary comprehensions and list operations to filter and extract data based on your needs."
   ]
  },
  {
   "cell_type": "code",
   "execution_count": null,
   "id": "849eb7c0-b93f-4602-881b-de5ee6b99d27",
   "metadata": {},
   "outputs": [],
   "source": []
  }
 ],
 "metadata": {
  "kernelspec": {
   "display_name": "Python 3 (ipykernel)",
   "language": "python",
   "name": "python3"
  },
  "language_info": {
   "codemirror_mode": {
    "name": "ipython",
    "version": 3
   },
   "file_extension": ".py",
   "mimetype": "text/x-python",
   "name": "python",
   "nbconvert_exporter": "python",
   "pygments_lexer": "ipython3",
   "version": "3.12.4"
  }
 },
 "nbformat": 4,
 "nbformat_minor": 5
}

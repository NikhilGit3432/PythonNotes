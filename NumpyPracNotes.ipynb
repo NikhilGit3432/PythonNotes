{
 "cells": [
  {
   "cell_type": "markdown",
   "id": "076da28b-a79a-4a80-a653-90b4e0289969",
   "metadata": {},
   "source": [
    "#### In NumPy, an array is a data structure that stores values of the same type in a grid-like format. It's similar to a list in Python but offers more efficiency for numerical operations. You can think of it as a collection of elements arranged in rows and columns (for 2D arrays) or in higher dimensions (e.g., 3D arrays). NumPy arrays, also known as ndarray, allow for efficient mathematical operations on large datasets and support multi-dimensional arrays."
   ]
  },
  {
   "cell_type": "code",
   "execution_count": 2,
   "id": "70a08f98-d1cc-484e-bbd0-eaaf4c88b79b",
   "metadata": {},
   "outputs": [],
   "source": [
    "import numpy as np"
   ]
  },
  {
   "cell_type": "markdown",
   "id": "8de90db6-afe2-4158-88b3-a03edd698bf0",
   "metadata": {},
   "source": [
    "## 1D Array  "
   ]
  },
  {
   "cell_type": "code",
   "execution_count": 27,
   "id": "cc932460-85aa-4279-b7e0-ecd6abbeda69",
   "metadata": {},
   "outputs": [
    {
     "name": "stdout",
     "output_type": "stream",
     "text": [
      "[1, 2, 3, 4, 5, 6] <class 'list'>\n",
      "[1 2 3 4 5 6] <class 'numpy.ndarray'>\n"
     ]
    },
    {
     "data": {
      "text/plain": [
       "1"
      ]
     },
     "execution_count": 27,
     "metadata": {},
     "output_type": "execute_result"
    }
   ],
   "source": [
    "List = [1, 2, 3, 4, 5, 6]  # Creating a Python list\n",
    "print(List, type(List))  # Printing the list and its type (It will be of type 'list')\n",
    "\n",
    "List = np.array(List)  # Converting the list into a NumPy array\n",
    "print(List, type(List))  # Printing the NumPy array and its type (It will be of type 'ndarray')\n",
    "\n",
    "np.ndim(List) # Return the dimenson in the array\n"
   ]
  },
  {
   "cell_type": "markdown",
   "id": "ab77706d-2dd0-41c6-a13d-7fd69414a84c",
   "metadata": {},
   "source": [
    "## 2D Array"
   ]
  },
  {
   "cell_type": "code",
   "execution_count": 29,
   "id": "b2751927-a032-4e9d-81f7-c5be9b73f811",
   "metadata": {},
   "outputs": [
    {
     "name": "stdout",
     "output_type": "stream",
     "text": [
      "[[1, 2, 3], [4, 5, 6]] <class 'list'>\n",
      "[[1 2 3]\n",
      " [4 5 6]] <class 'numpy.ndarray'>\n"
     ]
    },
    {
     "data": {
      "text/plain": [
       "2"
      ]
     },
     "execution_count": 29,
     "metadata": {},
     "output_type": "execute_result"
    }
   ],
   "source": [
    "List2d = [[1, 2, 3], \n",
    "          [4, 5, 6]]  # Creating a 2D Python list (list of lists)\n",
    "print(List2d, type(List2d))  # Printing the 2D list and its type (It will be of type 'list')\n",
    "\n",
    "List2d = np.array(List2d)  # Converting the 2D list into a NumPy 2D array\n",
    "print(List2d, type(List2d))  # Printing the NumPy 2D array and its type (It will be of type 'ndarray')\n",
    "\n",
    "np.ndim(List2d) # Return the dimenson in the array"
   ]
  },
  {
   "cell_type": "markdown",
   "id": "cfda3b56-517b-451a-b1c4-30f22a91d16b",
   "metadata": {},
   "source": [
    "## 3D Array"
   ]
  },
  {
   "cell_type": "code",
   "execution_count": 68,
   "id": "bb633f4a-7367-4783-a2f1-d2e137d6c3b6",
   "metadata": {},
   "outputs": [
    {
     "name": "stdout",
     "output_type": "stream",
     "text": [
      "[[[1, 2, 3]], [[4, 5, 6]]] <class 'list'>\n",
      "[[[1 2 3]]\n",
      "\n",
      " [[4 5 6]]] <class 'numpy.ndarray'>\n"
     ]
    },
    {
     "data": {
      "text/plain": [
       "3"
      ]
     },
     "execution_count": 68,
     "metadata": {},
     "output_type": "execute_result"
    }
   ],
   "source": [
    "List3d=[[[1,2,3]],[[4,5,6]]]\n",
    "print(List3d,type(List3d))\n",
    "\n",
    "List3d=np.array(List3d)\n",
    "print(List3d,type(List3d))\n",
    "\n",
    "np.ndim(List3d) # Return the dimenson in the array\n",
    "\n"
   ]
  },
  {
   "cell_type": "markdown",
   "id": "905846f5-b82c-4bcc-9f86-cac1f706d6b9",
   "metadata": {},
   "source": [
    "## Knowing your array these are the 3 basic commands for knowing the quality of your array"
   ]
  },
  {
   "cell_type": "code",
   "execution_count": 84,
   "id": "eda67ad7-78b8-4d95-87e1-2733318f83f2",
   "metadata": {},
   "outputs": [
    {
     "name": "stdout",
     "output_type": "stream",
     "text": [
      "Number of dimensions (ndim): 2\n",
      "Total number of elements (size): 6\n",
      "Shape of the array (shape): (2, 3)\n",
      "Size of each element (itemsize): 4\n",
      "Total number of elements (size): 6\n",
      "Array contents: [[1 2 3]\n",
      " [4 5 6]]\n",
      "Data type of the elements (dtype): int32\n"
     ]
    }
   ],
   "source": [
    "# Knowing your array these are the 3 basic commands for knowing the quality of your array\n",
    "import numpy as np  # Importing the NumPy library as np\n",
    "\n",
    "List2d = [[1, 2, 3], \n",
    "          [4, 5, 6]]  # Creating a 2D Python list (list of lists)\n",
    "\n",
    "List2d = np.array(List2d)  # Converting the list into a NumPy array\n",
    "\n",
    "# 1. np.ndim(List2d): Returns the number of dimensions of the array\n",
    "print(\"Number of dimensions (ndim):\", np.ndim(List2d))  # Output will be 2 (as it's a 2D array)\n",
    "\n",
    "# 2. np.size(List2d): Returns the total number of elements in the array\n",
    "print(\"Total number of elements (size):\", np.size(List2d))  # Output will be 6 (as there are 6 elements)\n",
    "\n",
    "# 3. np.shape(List2d): Returns the shape of the array (number of rows, number of columns)\n",
    "print(\"Shape of the array (shape):\", np.shape(List2d))  # Output will be (2, 3) as it has 2 rows and 3 columns\n",
    "\n",
    "# List2d.itemsize: Returns the size (in bytes) of each element of the array\n",
    "print(\"Size of each element (itemsize):\", List2d.itemsize)  # Output will be 8 (for an int64 array)\n",
    "\n",
    "# List2d.size: Returns the total number of elements in the array (same as np.size)\n",
    "print(\"Total number of elements (size):\", List2d.size)  # Output will be 6\n",
    "\n",
    "# List2d: Printing the array itself\n",
    "print(\"Array contents:\", List2d)  # Output will be the array itself: [[1 2 3] [4 5 6]]\n",
    "\n",
    "# List2d.dtype: Returns the data type of the elements in the array\n",
    "print(\"Data type of the elements (dtype):\", List2d.dtype)  # Output will be 'int64' (or 'int32' depending on the system)\n"
   ]
  },
  {
   "cell_type": "code",
   "execution_count": 41,
   "id": "2f40ee45-5e4a-44ac-9b67-f96fec384f1e",
   "metadata": {},
   "outputs": [
    {
     "data": {
      "text/plain": [
       "array([ 1,  5,  9, 13, 17])"
      ]
     },
     "execution_count": 41,
     "metadata": {},
     "output_type": "execute_result"
    }
   ],
   "source": [
    "np.arange(1,20,4)"
   ]
  },
  {
   "cell_type": "code",
   "execution_count": 43,
   "id": "62065225-a8e0-4ee8-8cb1-fef6f6fe9d54",
   "metadata": {},
   "outputs": [
    {
     "data": {
      "text/plain": [
       "array([ 1.        ,  1.47368421,  1.94736842,  2.42105263,  2.89473684,\n",
       "        3.36842105,  3.84210526,  4.31578947,  4.78947368,  5.26315789,\n",
       "        5.73684211,  6.21052632,  6.68421053,  7.15789474,  7.63157895,\n",
       "        8.10526316,  8.57894737,  9.05263158,  9.52631579, 10.        ])"
      ]
     },
     "execution_count": 43,
     "metadata": {},
     "output_type": "execute_result"
    }
   ],
   "source": [
    "np.linspace(1,10,num=20)"
   ]
  },
  {
   "cell_type": "markdown",
   "id": "70d42e0b-9127-4383-a2d9-1648f048d7df",
   "metadata": {},
   "source": [
    "## When you need to create randon array witth diffrent qualities for parctice purpose\n"
   ]
  },
  {
   "cell_type": "code",
   "execution_count": 50,
   "id": "8573d6bb-4206-4074-b162-46aab5281787",
   "metadata": {},
   "outputs": [
    {
     "data": {
      "text/plain": [
       "array([[ 1,  3,  5,  7,  9],\n",
       "       [11, 13, 15, 17, 19]])"
      ]
     },
     "execution_count": 50,
     "metadata": {},
     "output_type": "execute_result"
    }
   ],
   "source": [
    "# Creating a NumPy array using np.arange() with values from 1 to 19 (step of 2)\n",
    "arr1 = np.arange(1, 20, 2)  \n",
    "print(arr1)  # Output will be: [ 1  3  5  7  9 11 13 15 17 19]\n",
    "\n",
    "# Reshaping the array into a 2x5 matrix (2 rows, 5 columns)\n",
    "arr1_reshaped = arr1.reshape(2, 5)  \n",
    "print(arr1_reshaped)  # Output will be a 2D array:\n",
    "# [[ 1  3  5  7  9]\n",
    "#  [11 13 15 17 19]]"
   ]
  },
  {
   "cell_type": "code",
   "execution_count": 54,
   "id": "9bf434ed-d918-43cc-b261-c74239b59895",
   "metadata": {},
   "outputs": [
    {
     "data": {
      "text/plain": [
       "array([3, 4])"
      ]
     },
     "execution_count": 54,
     "metadata": {},
     "output_type": "execute_result"
    }
   ],
   "source": [
    "# Generating an array of random integers between 2 (inclusive) and 5 (exclusive)\n",
    "arr = np.random.randint(2, 5, 2)  \n",
    "print(arr)  # Printing the generated array\n"
   ]
  },
  {
   "cell_type": "code",
   "execution_count": 58,
   "id": "bc54530d-50e3-458d-8614-c68d42142a22",
   "metadata": {},
   "outputs": [
    {
     "name": "stdout",
     "output_type": "stream",
     "text": [
      "[  2.          12.88888889  23.77777778  34.66666667  45.55555556\n",
      "  56.44444444  67.33333333  78.22222222  89.11111111 100.        ]\n"
     ]
    }
   ],
   "source": [
    "import numpy as np  # Importing the NumPy library\n",
    "\n",
    "# Generating an array of 10 evenly spaced values between 2 and 100 (inclusive)\n",
    "arr = np.linspace(2, 100, num=10)  \n",
    "print(arr)  # Printing the generated array\n"
   ]
  },
  {
   "cell_type": "code",
   "execution_count": 62,
   "id": "9b67e2a2-685f-4c66-9f33-091fc933b34b",
   "metadata": {},
   "outputs": [
    {
     "data": {
      "text/plain": [
       "array([[88, 88, 88],\n",
       "       [88, 88, 88]])"
      ]
     },
     "execution_count": 62,
     "metadata": {},
     "output_type": "execute_result"
    }
   ],
   "source": [
    "import numpy as np  # Importing the NumPy library\n",
    "\n",
    "# Creating a 2x3 array filled with the value 88\n",
    "arr = np.full((2, 3), 88)  \n",
    "print(arr)  # Printing the generated array\n"
   ]
  },
  {
   "cell_type": "markdown",
   "id": "b0d40c25-8e91-4cf3-83de-57dd662ce47e",
   "metadata": {},
   "source": [
    "## Additional Note:\n",
    "You can use np.full() to create arrays similar to those created with np.zeros() or np.ones() but with any value you choose. For example:\n",
    "np.zeros((2, 3),0) creates a 2x3 array filled with zeros.\n",
    "np.ones((2, 3),1) creates a 2x3 array filled with ones.\n",
    "np.full((2, 3), 7) creates a 2x3 array filled with the value 7.\n",
    "Using np.full() is versatile because it allows you to fill the array with any constant value, not just zeros or ones."
   ]
  },
  {
   "cell_type": "markdown",
   "id": "1a069dad-cfea-4314-8f77-2ed77e53f5a0",
   "metadata": {},
   "source": [
    "## When you want to chage the qualities of an exisiting array theese are the few functions in Numpy\n"
   ]
  },
  {
   "cell_type": "raw",
   "id": "411dd6eb-1fb8-4499-9b9a-800f58400e34",
   "metadata": {},
   "source": [
    "transpose(): Swaps dimensions of the array.\n",
    "reshape(): Changes the shape of the array without altering its data.\n",
    "astype(): Converts the data type of the array elements.\n",
    "vstack(): Stacks arrays vertically.\n",
    "hstack(): Stacks arrays horizontally.\n",
    "ravel(): Flattens a multi-dimensional array into a 1D array.\n",
    "vsplit(): Splits the array vertically into multiple sub-arrays.\n",
    "hsplit(): Splits the array horizontally into multiple sub-arrays.\n",
    "\n",
    "\n",
    "flatten(): Flattens a multi-dimensional array into a 1D array, returning a copy of the array.\n",
    "\n",
    "resize(): Changes the shape and size of the array in-place, either increasing or decreasing the number of elements.\n",
    "\n",
    "repeat(): Repeats elements of an array along a specified axis, creating a new array with repeated elements.\n",
    "\n",
    "tile(): Constructs a new array by repeating the input array a specified number of times.\n",
    "\n",
    "sort(): Sorts the array along a specified axis in-place, modifying the original array.\n",
    "\n",
    "argsort(): Returns the indices that would sort the array, which can be used to retrieve the sorted order.\n",
    "\n",
    "unique(): Finds and returns the unique elements of an array, optionally sorted.\n",
    "\n",
    "clip(): Limits the values in the array to a specified range, setting values outside the range to the nearest boundary value."
   ]
  },
  {
   "cell_type": "code",
   "execution_count": 91,
   "id": "99bad059-8744-403a-bf73-ca5292399108",
   "metadata": {},
   "outputs": [
    {
     "name": "stdout",
     "output_type": "stream",
     "text": [
      "Transposed array:\n",
      " [[1 4]\n",
      " [2 5]\n",
      " [3 6]]\n"
     ]
    }
   ],
   "source": [
    "import numpy as np  # Importing NumPy library\n",
    "#Transposes the array, swapping rows and columns. For multidimensional arrays, it reverses the order of axes.\n",
    "arr = np.array([[1, 2, 3], [4, 5, 6]])  # Creating a 2D array\n",
    "transposed_arr = arr.transpose()  # Transposing the array\n",
    "print(\"Transposed array:\\n\", transposed_arr)\n",
    "\n"
   ]
  },
  {
   "cell_type": "code",
   "execution_count": 93,
   "id": "ebb70b9f-c33c-4d36-a394-090e0cb29572",
   "metadata": {},
   "outputs": [
    {
     "name": "stdout",
     "output_type": "stream",
     "text": [
      "Reshaped array:\n",
      " [[1 2 3]\n",
      " [4 5 6]]\n"
     ]
    }
   ],
   "source": [
    "# Reshapes the array to a new shape without changing its data.\n",
    "arr = np.array([1, 2, 3, 4, 5, 6])  # Creating a 1D array\n",
    "reshaped_arr = arr.reshape(2, 3)  # Reshaping to 2 rows and 3 columns\n",
    "print(\"Reshaped array:\\n\", reshaped_arr)\n"
   ]
  },
  {
   "cell_type": "code",
   "execution_count": 95,
   "id": "32f9cd6c-90c0-43c6-a2b7-541e64bd1ee9",
   "metadata": {},
   "outputs": [
    {
     "name": "stdout",
     "output_type": "stream",
     "text": [
      "Array with integer type:\n",
      " [1 2 3]\n"
     ]
    }
   ],
   "source": [
    "#Converts the array to a different data type.\n",
    "arr = np.array([1.5, 2.5, 3.5])  # Creating an array of floats\n",
    "int_arr = arr.astype(int)  # Converting to integers\n",
    "print(\"Array with integer type:\\n\", int_arr)\n"
   ]
  },
  {
   "cell_type": "code",
   "execution_count": 101,
   "id": "050b7bc2-4c8e-4245-9804-41b9259bd377",
   "metadata": {},
   "outputs": [
    {
     "name": "stdout",
     "output_type": "stream",
     "text": [
      "Horizontally stacked array:\n",
      " [[1 3]\n",
      " [2 4]]\n"
     ]
    }
   ],
   "source": [
    "#Stacks arrays horizontally (column-wise).\n",
    "arr1 = np.array([[1], [2]])  # Creating the first array\n",
    "arr2 = np.array([[3], [4]])  # Creating the second array\n",
    "hstack_arr = np.hstack((arr1, arr2))  # Horizontally stacking the arrays\n",
    "print(\"Horizontally stacked array:\\n\", hstack_arr)"
   ]
  },
  {
   "cell_type": "code",
   "execution_count": 103,
   "id": "fee8e428-ba77-4ca1-9fa4-9daedd2d072f",
   "metadata": {},
   "outputs": [
    {
     "name": "stdout",
     "output_type": "stream",
     "text": [
      "Vertically stacked array:\n",
      " [[1 2 3]\n",
      " [4 5 6]]\n"
     ]
    }
   ],
   "source": [
    "#Stacks arrays vertically (row-wise).\n",
    "arr1 = np.array([[1, 2, 3]])  # Creating the first array\n",
    "arr2 = np.array([[4, 5, 6]])  # Creating the second array\n",
    "vstack_arr = np.vstack((arr1, arr2))  # Vertically stacking the arrays\n",
    "print(\"Vertically stacked array:\\n\", vstack_arr)"
   ]
  },
  {
   "cell_type": "code",
   "execution_count": 105,
   "id": "53bfd128-2c01-4c57-9a14-c4b59aa6c276",
   "metadata": {},
   "outputs": [
    {
     "name": "stdout",
     "output_type": "stream",
     "text": [
      "Flattened array:\n",
      " [1 2 3 4 5 6]\n"
     ]
    }
   ],
   "source": [
    "#Flattens a multi-dimensional array into a 1D array.\n",
    "arr = np.array([[1, 2, 3], [4, 5, 6]])  # Creating a 2D array\n",
    "flattened_arr = arr.ravel()  # Flattening to a 1D array\n",
    "print(\"Flattened array:\\n\", flattened_arr)\n"
   ]
  },
  {
   "cell_type": "code",
   "execution_count": 107,
   "id": "6480bf57-07c3-4f01-ac38-e815823f020b",
   "metadata": {},
   "outputs": [
    {
     "name": "stdout",
     "output_type": "stream",
     "text": [
      "Vertically split arrays:\n",
      "[[1 2 3]]\n",
      "[[4 5 6]]\n",
      "[[7 8 9]]\n"
     ]
    }
   ],
   "source": [
    "#Splits an array into multiple sub-arrays vertically (row-wise).\n",
    "arr = np.array([[1, 2, 3], [4, 5, 6], [7, 8, 9]])  # Creating a 2D array\n",
    "vsplit_arr = np.vsplit(arr, 3)  # Splitting into 3 sub-arrays\n",
    "print(\"Vertically split arrays:\")\n",
    "for sub_arr in vsplit_arr:\n",
    "    print(sub_arr)"
   ]
  },
  {
   "cell_type": "code",
   "execution_count": 109,
   "id": "6dc51325-e951-4d3d-a3ee-319430661934",
   "metadata": {},
   "outputs": [
    {
     "name": "stdout",
     "output_type": "stream",
     "text": [
      "Horizontally split arrays:\n",
      "[[1 2]\n",
      " [5 6]]\n",
      "[[3 4]\n",
      " [7 8]]\n"
     ]
    }
   ],
   "source": [
    "# Splits an array into multiple sub-arrays horizontally (column-wise).\n",
    "arr = np.array([[1, 2, 3, 4], [5, 6, 7, 8]])  # Creating a 2D array\n",
    "hsplit_arr = np.hsplit(arr, 2)  # Splitting into 2 sub-arrays\n",
    "print(\"Horizontally split arrays:\")\n",
    "for sub_arr in hsplit_arr:\n",
    "    print(sub_arr)"
   ]
  },
  {
   "cell_type": "code",
   "execution_count": 112,
   "id": "5e56551f-5143-4352-aa54-385e7280588a",
   "metadata": {},
   "outputs": [
    {
     "name": "stdout",
     "output_type": "stream",
     "text": [
      "Flattened array:\n",
      " [1 2 3 4 5 6]\n"
     ]
    }
   ],
   "source": [
    "# Returns a copy of the array collapsed into one dimension.\n",
    "arr = np.array([[1, 2, 3], [4, 5, 6]])  # Creating a 2D array\n",
    "flattened_arr = arr.flatten()  # Flattening to a 1D array\n",
    "print(\"Flattened array:\\n\", flattened_arr)\n"
   ]
  },
  {
   "cell_type": "code",
   "execution_count": 114,
   "id": "643c822b-38cd-4f0f-ba9c-3cf1f3643612",
   "metadata": {},
   "outputs": [
    {
     "name": "stdout",
     "output_type": "stream",
     "text": [
      "Resized array:\n",
      " [[1 2 3]\n",
      " [4 0 0]\n",
      " [0 0 0]]\n"
     ]
    }
   ],
   "source": [
    "# Repeats elements of an array along a specified axis\n",
    "arr = np.array([[1, 2], [3, 4]])  # Creating a 2x2 array\n",
    "arr.resize((3, 3))  # Resizing to 3x3 array\n",
    "print(\"Resized array:\\n\", arr)"
   ]
  },
  {
   "cell_type": "code",
   "execution_count": 116,
   "id": "dec46b30-c6aa-4f35-97e9-884f5c7f27b7",
   "metadata": {},
   "outputs": [
    {
     "name": "stdout",
     "output_type": "stream",
     "text": [
      "Tiled array:\n",
      " [1 2 3 1 2 3 1 2 3]\n"
     ]
    }
   ],
   "source": [
    "# Constructs an array by repeating the input array a specified number of times.\n",
    "arr = np.array([1, 2, 3])  # Creating a 1D array\n",
    "tiled_arr = np.tile(arr, 3)  # Repeating the array 3 times\n",
    "print(\"Tiled array:\\n\", tiled_arr)"
   ]
  },
  {
   "cell_type": "code",
   "execution_count": 118,
   "id": "0ab1efa7-e42b-4820-ad82-1688c13311c2",
   "metadata": {},
   "outputs": [
    {
     "name": "stdout",
     "output_type": "stream",
     "text": [
      "Sorted array:\n",
      " [[1 2 3]\n",
      " [4 5 6]]\n"
     ]
    }
   ],
   "source": [
    "# Sorts the array along a specified axis. This is done in-place, meaning it modifies the original array.\n",
    "arr = np.array([[3, 1, 2], [6, 4, 5]])  # Creating a 2D array\n",
    "arr.sort(axis=1)  # Sorting each row\n",
    "print(\"Sorted array:\\n\", arr)"
   ]
  },
  {
   "cell_type": "code",
   "execution_count": 122,
   "id": "8d929104-399f-4a44-a8ce-84cf218e8960",
   "metadata": {},
   "outputs": [
    {
     "name": "stdout",
     "output_type": "stream",
     "text": [
      "Sorted indices:\n",
      " [1 2 0]\n"
     ]
    }
   ],
   "source": [
    "# Returns the indices that would sort an array.\n",
    "arr22 = np.array([3, 1, 2])  # Creating a 1D array\n",
    "sorted_indices = np.argsort(arr22)  # Getting the indices that would sort the array\n",
    "print(\"Sorted indices:\\n\", sorted_indices)"
   ]
  },
  {
   "cell_type": "code",
   "execution_count": 124,
   "id": "a543d4a6-e6df-4e4f-a619-7289deb14429",
   "metadata": {},
   "outputs": [
    {
     "name": "stdout",
     "output_type": "stream",
     "text": [
      "Unique elements:\n",
      " [1 2 3]\n"
     ]
    }
   ],
   "source": [
    "# Finds the unique elements of an array and can return them in sorted order.\n",
    "arr = np.array([1, 2, 2, 3, 3, 3])  # Creating an array with duplicate values\n",
    "unique_arr = np.unique(arr)  # Finding unique elements\n",
    "print(\"Unique elements:\\n\", unique_arr)\n"
   ]
  },
  {
   "cell_type": "code",
   "execution_count": 126,
   "id": "1164faf9-2332-4ac9-ad18-86241049e6e9",
   "metadata": {},
   "outputs": [
    {
     "name": "stdout",
     "output_type": "stream",
     "text": [
      "Clipped array:\n",
      " [ 3  5 10 12]\n"
     ]
    }
   ],
   "source": [
    "# Limits the values in an array to a specified range.\n",
    "arr = np.array([1, 5, 10, 15])  # Creating an array\n",
    "clipped_arr = np.clip(arr, 3, 12)  # Clipping values to be between 3 and 12\n",
    "print(\"Clipped array:\\n\", clipped_arr)"
   ]
  },
  {
   "cell_type": "markdown",
   "id": "43c13db8-0c84-49dc-95d0-9d6e56ae77d4",
   "metadata": {},
   "source": [
    "## Numpy Operations\n"
   ]
  },
  {
   "cell_type": "code",
   "execution_count": 129,
   "id": "b41ef9dc-a538-47db-b63b-ef54c7dbac53",
   "metadata": {},
   "outputs": [],
   "source": [
    "Array=np.arange(1,20,2)"
   ]
  },
  {
   "cell_type": "code",
   "execution_count": 141,
   "id": "0424665b-785b-435b-9154-134741e5d1b2",
   "metadata": {},
   "outputs": [
    {
     "data": {
      "text/plain": [
       "(10,)"
      ]
     },
     "execution_count": 141,
     "metadata": {},
     "output_type": "execute_result"
    }
   ],
   "source": [
    "np.size(Array)\n",
    "np.ndim(Array)\n",
    "np.shape(Array)\n"
   ]
  },
  {
   "cell_type": "code",
   "execution_count": 197,
   "id": "7933be99-7a70-429a-b9ff-b21f58060eb6",
   "metadata": {},
   "outputs": [
    {
     "data": {
      "text/plain": [
       "array([9, 8, 9, 7, 9, 8, 2, 6])"
      ]
     },
     "execution_count": 197,
     "metadata": {},
     "output_type": "execute_result"
    }
   ],
   "source": [
    "Array2=np.random.randint(1,10,8)\n",
    "np.size(Array2)\n",
    "Array2"
   ]
  },
  {
   "cell_type": "code",
   "execution_count": 201,
   "id": "42e12b71-9b61-4a49-a2b5-a90ee17e1ea5",
   "metadata": {},
   "outputs": [
    {
     "data": {
      "text/plain": [
       "array([[9, 8, 9, 7],\n",
       "       [9, 8, 2, 6]])"
      ]
     },
     "execution_count": 201,
     "metadata": {},
     "output_type": "execute_result"
    }
   ],
   "source": [
    "Array2d=Array2.reshape(2,4)\n",
    "Array2d"
   ]
  },
  {
   "cell_type": "code",
   "execution_count": 207,
   "id": "8c7e67cc-3e26-43b0-afa1-be5091a27c7d",
   "metadata": {},
   "outputs": [
    {
     "data": {
      "text/plain": [
       "array([9, 8, 9, 7])"
      ]
     },
     "execution_count": 207,
     "metadata": {},
     "output_type": "execute_result"
    }
   ],
   "source": [
    "#Max or Min\n",
    "# axis=0: Refers to the direction along the rows of a 2D array. It operates vertically downwards along columns.\n",
    "# axis=1: Refers to the direction along the columns of a 2D array. It operates horizontally across rows.\n",
    "np.max(Array2d,axis=0) #Maximum number in each column"
   ]
  },
  {
   "cell_type": "code",
   "execution_count": 213,
   "id": "12a90b84-eca9-4697-9da8-dca897cbc31c",
   "metadata": {},
   "outputs": [
    {
     "data": {
      "text/plain": [
       "array([18, 16, 11, 13])"
      ]
     },
     "execution_count": 213,
     "metadata": {},
     "output_type": "execute_result"
    }
   ],
   "source": [
    "#Sum Operation along the axes\n",
    "\n",
    "np.sum(Array2d,axis=0)\n",
    "\n",
    "\n",
    "# Some of the other functons are :-\n",
    "\n",
    "# mean,median,mode,std,exp"
   ]
  },
  {
   "cell_type": "raw",
   "id": "5d90f466-f717-4075-8080-c09d64040e5f",
   "metadata": {},
   "source": [
    "Try Practicing these functions on your own \n",
    "Here are some of the most important and frequently used operations in NumPy arrays:\n",
    "\n",
    "Basic Operations\n",
    "Arithmetic Operations:\n",
    "Addition: np.add(array1, array2)\n",
    "Subtraction: np.subtract(array1, array2)\n",
    "Multiplication: np.multiply(array1, array2)\n",
    "Division: np.divide(array1, array2)\n",
    "\n",
    "Aggregations:\n",
    "Sum: np.sum(array, axis=None)\n",
    "Mean: np.mean(array, axis=None)\n",
    "Median: np.median(array, axis=None)\n",
    "Standard Deviation: np.std(array, axis=None)\n",
    "Variance: np.var(array, axis=None)\n",
    "\n",
    "Minimum and Maximum:\n",
    "Minimum: np.min(array, axis=None)\n",
    "Maximum: np.max(array, axis=None)\n",
    "\n",
    "Sorting:\n",
    "Sort: np.sort(array, axis=None)\n",
    "Argsort: np.argsort(array, axis=None)\n",
    "\n",
    "Reshaping and Manipulating\n",
    "Reshape:\n",
    "Reshape: array.reshape(new_shape)\n",
    "Flatten: array.flatten()\n",
    "\n",
    "Transposing:\n",
    "Transpose: array.T\n",
    "\n",
    "Stacking:\n",
    "Vertical Stack: np.vstack((array1, array2))\n",
    "Horizontal Stack: np.hstack((array1, array2))\n",
    "\n",
    "Splitting:\n",
    "Vertical Split: np.vsplit(array, indices_or_sections)\n",
    "Horizontal Split: np.hsplit(array, indices_or_sections)\n",
    "\n",
    "Concatenation:\n",
    "Concatenate: np.concatenate((array1, array2), axis=0)\n",
    "\n",
    "Logical Operations\n",
    "Logical Operations:\n",
    "Logical AND: np.logical_and(array1, array2)\n",
    "Logical OR: np.logical_or(array1, array2)\n",
    "Logical NOT: np.logical_not(array)\n",
    "\n",
    "Conditional Operations:\n",
    "Where: np.where(condition, x, y)\n",
    "\n",
    "Array Manipulation\n",
    "Indexing and Slicing:\n",
    "Indexing: Access specific elements or slices of the array.\n",
    "\n",
    "Broadcasting:\n",
    "Broadcasting: Automatically expand the shape of arrays to perform element-wise operations.\n",
    "\n",
    "Miscellaneous\n",
    "Unique Elements:\n",
    "\n",
    "Unique: np.unique(array)\n",
    "Histogram:\n",
    "\n",
    "Histogram: np.histogram(array, bins)\n",
    "Random Sampling:\n",
    "\n",
    "Random Integers: np.random.randint(low, high, size)\n",
    "Random Floats: np.random.random(size)\n",
    "\n",
    "\n",
    "Copying:\n",
    "Copy: array.copy()\n",
    "These functions and operations are essential for data manipulation, numerical computations, and analysis using NumPy arrays.\n",
    "\n"
   ]
  },
  {
   "cell_type": "markdown",
   "id": "24838060-ed79-4af4-892f-d97b1a6569da",
   "metadata": {},
   "source": [
    "## Indexing and Slicing in Numpy arrays"
   ]
  },
  {
   "cell_type": "markdown",
   "id": "b3bf2b0c-0558-45ea-b32e-03abef625736",
   "metadata": {},
   "source": [
    "### Extract a Subarray\n",
    "\n",
    "#### Question: How would you extract the subarray consisting of the first 2 rows and the first 3 columns from Array2d?\n",
    "#####Answer: Array2d[:2, :3]"
   ]
  },
  {
   "cell_type": "code",
   "execution_count": 219,
   "id": "f24574b2-4bed-4176-9eda-7cf1e7ae5d7f",
   "metadata": {},
   "outputs": [
    {
     "data": {
      "text/plain": [
       "array([[9, 8, 9, 7],\n",
       "       [9, 8, 2, 6]])"
      ]
     },
     "execution_count": 219,
     "metadata": {},
     "output_type": "execute_result"
    }
   ],
   "source": [
    "Array2d"
   ]
  },
  {
   "cell_type": "code",
   "execution_count": 226,
   "id": "5cea843a-866a-4c50-b970-4b578b488e28",
   "metadata": {},
   "outputs": [
    {
     "data": {
      "text/plain": [
       "array([[9, 8, 9],\n",
       "       [9, 8, 2]])"
      ]
     },
     "execution_count": 226,
     "metadata": {},
     "output_type": "execute_result"
    }
   ],
   "source": [
    "Array2d[0:2,0:3]"
   ]
  },
  {
   "cell_type": "markdown",
   "id": "8263249d-b86a-493f-9691-f22016b3f7d1",
   "metadata": {},
   "source": [
    "### Access Specific Elements\n",
    "\n",
    "#### Question: What is the result of accessing the element in the second row and third column of Array2d?\n",
    "##### Answer: Array2d[1, 2]"
   ]
  },
  {
   "cell_type": "code",
   "execution_count": 229,
   "id": "bab5eb91-1d11-4b1a-8628-ffd5a8ac9b10",
   "metadata": {},
   "outputs": [
    {
     "data": {
      "text/plain": [
       "2"
      ]
     },
     "execution_count": 229,
     "metadata": {},
     "output_type": "execute_result"
    }
   ],
   "source": [
    "Array2d[1,2]"
   ]
  },
  {
   "cell_type": "markdown",
   "id": "3ace3730-98ec-408f-9a31-8ad0c87529ba",
   "metadata": {},
   "source": [
    "### Slice a 1D Array\n",
    "\n",
    "#### Question: How can you get the last 4 elements from Array2?\n",
    "##### Answer: Array2[-4:]"
   ]
  },
  {
   "cell_type": "code",
   "execution_count": 232,
   "id": "4c6236a3-fc3f-49a3-a7ba-67ae97609d89",
   "metadata": {},
   "outputs": [
    {
     "data": {
      "text/plain": [
       "array([9, 8, 2, 6])"
      ]
     },
     "execution_count": 232,
     "metadata": {},
     "output_type": "execute_result"
    }
   ],
   "source": [
    "Array2[-4:]"
   ]
  },
  {
   "cell_type": "markdown",
   "id": "339e3a57-df72-4740-9ded-f9b094d3f024",
   "metadata": {},
   "source": [
    "### Change Values Using Slicing\n",
    "\n",
    "#### Question: How can you set all values in the second row of Array2d to 99?\n",
    "#### Answer: Array2d[1, :] = 99"
   ]
  },
  {
   "cell_type": "code",
   "execution_count": 235,
   "id": "f8a0e12f-4119-4814-b074-6e4c14873a2c",
   "metadata": {},
   "outputs": [
    {
     "data": {
      "text/plain": [
       "array([[ 9,  8,  9,  7],\n",
       "       [99, 99, 99, 99]])"
      ]
     },
     "execution_count": 235,
     "metadata": {},
     "output_type": "execute_result"
    }
   ],
   "source": [
    "Array2d[1,:]=99\n",
    "Array2d"
   ]
  },
  {
   "cell_type": "markdown",
   "id": "086bb57e-55a1-46ab-9edc-2aaaffed0260",
   "metadata": {},
   "source": [
    "### Slicing with Step Size\n",
    "\n",
    "#### Question: How would you get every second element from Array2?\n",
    "##### Answer: Array2[::2]"
   ]
  },
  {
   "cell_type": "code",
   "execution_count": 246,
   "id": "e2af8163-dd8f-4c75-8d4e-1bb4c4a8e81e",
   "metadata": {},
   "outputs": [
    {
     "data": {
      "text/plain": [
       "array([ 9,  9, 99, 99])"
      ]
     },
     "execution_count": 246,
     "metadata": {},
     "output_type": "execute_result"
    }
   ],
   "source": [
    " Array2[::2]"
   ]
  },
  {
   "cell_type": "code",
   "execution_count": 248,
   "id": "31bddb43-8dd9-4409-be09-6e5898b51ab7",
   "metadata": {},
   "outputs": [
    {
     "data": {
      "text/plain": [
       "array([ 9,  8,  9,  7, 99, 99, 99, 99])"
      ]
     },
     "execution_count": 248,
     "metadata": {},
     "output_type": "execute_result"
    }
   ],
   "source": [
    "Array2"
   ]
  },
  {
   "cell_type": "code",
   "execution_count": 255,
   "id": "7460b85c-641c-4492-9aeb-4bf5db204863",
   "metadata": {},
   "outputs": [
    {
     "data": {
      "text/plain": [
       "array([ 9,  8,  9,  7, 99, 99, 99, 99])"
      ]
     },
     "execution_count": 255,
     "metadata": {},
     "output_type": "execute_result"
    }
   ],
   "source": [
    "Array2d[Array2d>5]"
   ]
  },
  {
   "cell_type": "code",
   "execution_count": null,
   "id": "0c9d4504-86fc-46ed-92f8-683d3d170ed6",
   "metadata": {},
   "outputs": [],
   "source": []
  }
 ],
 "metadata": {
  "kernelspec": {
   "display_name": "Python 3 (ipykernel)",
   "language": "python",
   "name": "python3"
  },
  "language_info": {
   "codemirror_mode": {
    "name": "ipython",
    "version": 3
   },
   "file_extension": ".py",
   "mimetype": "text/x-python",
   "name": "python",
   "nbconvert_exporter": "python",
   "pygments_lexer": "ipython3",
   "version": "3.12.4"
  }
 },
 "nbformat": 4,
 "nbformat_minor": 5
}
